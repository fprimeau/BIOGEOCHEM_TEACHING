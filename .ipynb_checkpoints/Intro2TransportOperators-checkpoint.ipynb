{
 "cells": [
  {
   "cell_type": "markdown",
   "metadata": {},
   "source": [
    "## Introduction to global ocean biogeochemical modelling with transport operators\n",
    "To model marine biogeochemical processes on a global scale we need to be able to account for the movement of chemical constituents both horizontally and vertically. We do this with a <b><i>tracer transport operator</i></b>.  When this operator acts on a tracer field it produces the advective-diffusive divergence of the tracer.\n",
    "\n",
    "In order to represent the transport operator on a computer we have to discretize the tracer concentration field and the operator.  Once discretized the tracer field is represented as a vector and the operator is represented as a sparse matrix. (A sparse matrix behaves the same way as a regular matrix. The only difference is that in a sparse matrix the majority of the entries are zeros. These zeros are not stored explicitly to save computer memory making it possible to deal with fairly high resolution ocean models. \n",
    "\n",
    "Mathematically, the discretization converts an expression with partial derivatives into a matrix vector product:\n",
    "$$\\nabla \\cdot \\left[\\mathbf{u}-\\mathbf{K}\\cdot\\nabla \\right]C \\longrightarrow \\mathbf{T}\\mathbf{c}$$ where $\\mathbf{T}$ is the flux divergence transport matrix and $\\mathbf{c}$ is the tracer concentration vector. \n",
    "\n",
    "One can go a long way towards understanding what a tracer transport operator is by playing with a simple box model. We therefore introuce a simple box model before moving on to the <i>Ocean Circulation Inverse Model</i> (OCIM).\n"
   ]
  },
  {
   "cell_type": "markdown",
   "metadata": {},
   "source": [
    "The simple box model we consider is embeded in a $2\\times2\\times2$ \"shoebox\". It has 5 <i>wet</i> boxes and 3 <i>dry</i> boxes.\n",
    "<img src=\"boxmodel.png\" width =800>"
   ]
  },
  {
   "cell_type": "code",
   "execution_count": 1,
   "metadata": {},
   "outputs": [],
   "source": [
    "a = 6367e3;   # Earth radius           (m)\n",
    "A = 4*pi*a^2; # Earth surface area     (m²)\n",
    "d = 3700;     # ocean depth            (m)\n",
    "V = 0.75*A*d; # volume of ocean        (m³)\n",
    "h = 200;      # thickness of top layer (m)\n",
    "#\n",
    "dz = [h*ones(4,1);(d-h)*ones(4,1)]; # grid box thicknesses       (m)\n",
    "dV = (dz/d).*((V/4)*ones(8,1));     # grid box volumes           (m³)\n",
    "dAz = dV./dz                        # area of face ⟂ to z axis   (m²)\n",
    "dy = sqrt.(dAz);                    # north-south side length    (m)\n",
    "dx = sqrt.(dAz);                    # east-west side length      (m)\n",
    "dAx = dV./dy;                       # area of face ⟂ to x axis   (m²)\n",
    "dAy = dV./dx;                       # area of face ⟂ to y axis   (m²)\n",
    "#\n",
    "msk = [1, 1, 1, 0, 1, 1, 0, 0];     # wet-dry mask wet=1 dry = 0 \n",
    "iwet = findall(x->x==1,msk);        # index to wet gridboxes\n",
    "idry = findall(x->x==0,msk);        # index to dry gridboxes\n",
    "srf = [1, 1, 1, 0, 0];              # surface mask srface=1 bottom = 0\n",
    "isrf = findall(x->x==1,srf);"
   ]
  },
  {
   "cell_type": "markdown",
   "metadata": {},
   "source": [
    "The circulation consists of \n",
    "<ul>\n",
    "    <li>a meridional overturning circulation flowing from box 1 to box 2 to box 6 to box 5 and back to box 1</li>\n",
    "    <li>a zonal current in a reentrant channel from box 1 to box 3 and back to box 1</li>\n",
    "    <li>vertical mixing representing deep convection between box 2 and box 6</li>\n",
    "</ul>\n",
    "    "
   ]
  },
  {
   "cell_type": "code",
   "execution_count": 2,
   "metadata": {},
   "outputs": [],
   "source": [
    "using LinearAlgebra\n",
    "using SparseArrays\n",
    "TRdiv = spzeros(8,8);\n",
    "# \"Antarctic Circumpoloar Current\"\n",
    "acc = 100e6;  # (m³/s)\n",
    "TRdiv += sparse([1,1],[1,3],dV[1]\\[-acc,acc],8,8);\n",
    "TRdiv += sparse([3,3],[3,1],dV[3]\\[-acc,acc],8,8);\n",
    "# \"Meridional Overturning Circulation\"\n",
    "moc = 15e6    # (m³/s)\n",
    "TRdiv += sparse([1,1],[1,5],dV[1]\\[-moc,moc],8,8);\n",
    "TRdiv += sparse([2,2],[2,1],dV[2]\\[-moc,moc],8,8);\n",
    "TRdiv += sparse([5,5],[5,6],dV[5]\\[-moc,moc],8,8);\n",
    "TRdiv += sparse([6,6],[6,2],dV[6]\\[-moc,moc],8,8);\n",
    "# vertical mixing at \"high northern latitudes\"\n",
    "q = 10e6      # (m³/s)\n",
    "TRdiv += sparse([2,2],[2,6],dV[2]\\[-q,q],8,8);\n",
    "TRdiv += sparse([6,6],[6,2],dV[6]\\[-q,q],8,8);\n",
    "TRdiv = TRdiv[iwet,iwet];"
   ]
  },
  {
   "cell_type": "markdown",
   "metadata": {},
   "source": [
    "## An idealized radiocarbon simulation\n",
    "Radiocarbon, $^{14}$C, is produced by cosmic rays in the lower stratosphere and upper troposphere. It quickly reacts with oxygen to produce $^{14}$CO$_2$, which is then mixed throughout the troposphere and enters the ocean through air-sea gas exchange. Because the halflife of radiocarbon is only 5730 years a significant amount of deday can occur before the dissolved inorganic radiocarbon (DI$^{14}$C) can mix uniformally throughout the ocean. As such the $^{14}$C serves as a tracer label for water that was recently in contact with the atmosphere. \n",
    "\n",
    "Here we will perform an idealized radiocarbon simulation in our model. In this model we prescribe the atmospheric concentration to 1 and model the air-sea gas exchange using a constant piston velocity of $\\kappa = $50m/10years. For the radioactive decay we use a timescale of $\\tau = 5730$years/$\\log(2)$."
   ]
  },
  {
   "cell_type": "code",
   "execution_count": 3,
   "metadata": {},
   "outputs": [],
   "source": [
    "sec_per_year = 365*24*60*60; \n",
    "κ = 50/(10*sec_per_year); # m/s\n",
    "τ = 5730*sec_per_year/log(2); # m/s"
   ]
  },
  {
   "cell_type": "code",
   "execution_count": 4,
   "metadata": {},
   "outputs": [],
   "source": [
    "M = TRdiv;\n",
    "M += -κ*spdiagm(0=>srf)/h; # air-sea loss operator\n",
    "M += spdiagm(0=>ones(5))/τ;  # radioactive decay loss operator\n",
    "s = κ*srf/h;               # air-sea source rate"
   ]
  },
  {
   "cell_type": "code",
   "execution_count": 5,
   "metadata": {},
   "outputs": [
    {
     "data": {
      "text/plain": [
       "5-element Array{Float64,1}:\n",
       " 1.0810074624789625\n",
       " 1.06193910398955  \n",
       " 1.0710347112785237\n",
       " 1.2239973332582768\n",
       " 1.1193562263922334"
      ]
     },
     "execution_count": 5,
     "metadata": {},
     "output_type": "execute_result"
    }
   ],
   "source": [
    "R = -M\\s"
   ]
  },
  {
   "cell_type": "code",
   "execution_count": 6,
   "metadata": {},
   "outputs": [
    {
     "data": {
      "text/plain": [
       "5-element Array{Float64,1}:\n",
       "  643.9172442117496\n",
       "  496.7969498748243\n",
       "  567.3000097505122\n",
       " 1670.8703768740365\n",
       "  932.0947213381232"
      ]
     },
     "execution_count": 6,
     "metadata": {},
     "output_type": "execute_result"
    }
   ],
   "source": [
    "age = τ*log.(R)/sec_per_year"
   ]
  },
  {
   "cell_type": "markdown",
   "metadata": {},
   "source": [
    "## An idealized simulation of a radioactive tracer with an atmospheric origin usig OCIM"
   ]
  },
  {
   "cell_type": "code",
   "execution_count": 7,
   "metadata": {},
   "outputs": [],
   "source": [
    "sec_per_year = 365*24*60*60; \n",
    "κ = 50/(10*sec_per_year); # m/s\n",
    "τ = 5730*sec_per_year/log(2); # m/s"
   ]
  },
  {
   "cell_type": "code",
   "execution_count": 9,
   "metadata": {},
   "outputs": [
    {
     "name": "stderr",
     "output_type": "stream",
     "text": [
      "WARNING: redefining constant p₀\n"
     ]
    }
   ],
   "source": [
    "using TransportMatrixTools\n",
    "t = empty_parameter_table()      # initialize table of parameters\n",
    "add_parameter!(t, :τ, (τ)u\"s\")   # add the radioactive decay e-folding timescale\n",
    "add_parameter!(t, :κ, (κ)u\"m/s\")\n",
    "initialize_parameter_type(t)     # Generate the parameter table"
   ]
  },
  {
   "cell_type": "code",
   "execution_count": 10,
   "metadata": {},
   "outputs": [
    {
     "data": {
      "text/html": [
       "<table class=\"data-frame\"><thead><tr><th></th><th>symbol</th><th>value</th><th>unit</th><th>printunit</th><th>mean_obs</th><th>variance_obs</th><th>optimizable</th><th>description</th></tr><tr><th></th><th>Symbol</th><th>Float64</th><th>Unitful…</th><th>Unitful…</th><th>Float64</th><th>Float64</th><th>Bool</th><th>String</th></tr></thead><tbody><p>2 rows × 9 columns (omitted printing of 1 columns)</p><tr><th>1</th><td>τ</td><td>2.60697e11</td><td>s</td><td>s</td><td>NaN</td><td>NaN</td><td>false</td><td></td></tr><tr><th>2</th><td>κ</td><td>1.58549e-7</td><td>m s^-1</td><td>m s^-1</td><td>NaN</td><td>NaN</td><td>false</td><td></td></tr></tbody></table>"
      ],
      "text/latex": [
       "\\begin{tabular}{r|ccccccccc}\n",
       "\t& symbol & value & unit & printunit & mean\\_obs & variance\\_obs & optimizable & description & \\\\\n",
       "\t\\hline\n",
       "\t& Symbol & Float64 & Unitful… & Unitful… & Float64 & Float64 & Bool & String & \\\\\n",
       "\t\\hline\n",
       "\t1 & τ & 2.60697e11 & s & s & NaN & NaN & false &  & $\\dots$ \\\\\n",
       "\t2 & κ & 1.58549e-7 & m s\\^-1 & m s\\^-1 & NaN & NaN & false &  & $\\dots$ \\\\\n",
       "\\end{tabular}\n"
      ],
      "text/plain": [
       "2×9 DataFrames.DataFrame. Omitted printing of 3 columns\n",
       "│ Row │ symbol │ value      │ unit     │ printunit │ mean_obs │ variance_obs │\n",
       "│     │ \u001b[90mSymbol\u001b[39m │ \u001b[90mFloat64\u001b[39m    │ \u001b[90mUnitful…\u001b[39m │ \u001b[90mUnitful…\u001b[39m  │ \u001b[90mFloat64\u001b[39m  │ \u001b[90mFloat64\u001b[39m      │\n",
       "├─────┼────────┼────────────┼──────────┼───────────┼──────────┼──────────────┤\n",
       "│ 1   │ τ      │ 2.60697e11 │ s        │ s         │ NaN      │ NaN          │\n",
       "│ 2   │ κ      │ 1.58549e-7 │ m s^-1   │ m s^-1    │ NaN      │ NaN          │"
      ]
     },
     "execution_count": 10,
     "metadata": {},
     "output_type": "execute_result"
    }
   ],
   "source": [
    "t"
   ]
  },
  {
   "cell_type": "code",
   "execution_count": 11,
   "metadata": {},
   "outputs": [
    {
     "name": "stdout",
     "output_type": "stream",
     "text": [
      "loading OCIM1 with JLD2\n"
     ]
    },
    {
     "data": {
      "text/plain": [
       "T_radio (generic function with 1 method)"
      ]
     },
     "execution_count": 11,
     "metadata": {},
     "output_type": "execute_result"
    }
   ],
   "source": [
    "const mask, grd, T_OCIM = TransportMatrixTools.OCIM1.load() ;\n",
    "T_radio(p) = T_OCIM"
   ]
  },
  {
   "cell_type": "code",
   "execution_count": 12,
   "metadata": {},
   "outputs": [],
   "source": [
    "const nb, DIV, Iabove, v, z, ztop = constants(mask, grd) ;"
   ]
  },
  {
   "cell_type": "code",
   "execution_count": 13,
   "metadata": {},
   "outputs": [
    {
     "data": {
      "text/plain": [
       "source_sink_radio (generic function with 1 method)"
      ]
     },
     "execution_count": 13,
     "metadata": {},
     "output_type": "execute_result"
    }
   ],
   "source": [
    "function source_sink_radio(R, p)\n",
    "    τ = p.τ\n",
    "    κ = p.κ\n",
    "    dz = grd[\"dzt\"]\n",
    "    return κ.*(z.<20).*(R-1.0)./dz[1]-R./tau\n",
    "end"
   ]
  },
  {
   "cell_type": "code",
   "execution_count": 14,
   "metadata": {},
   "outputs": [
    {
     "data": {
      "text/plain": [
       "(getfield(TransportMatrixTools, Symbol(\"#F#21\")){getfield(TransportMatrixTools, Symbol(\"#T#17\")){Tuple{typeof(T_radio)}},getfield(TransportMatrixTools, Symbol(\"#G#19\")){Tuple{typeof(source_sink_radio)},getfield(TransportMatrixTools, Symbol(\"#tracers#15\")){Int64,Int64}}}(getfield(TransportMatrixTools, Symbol(\"#T#17\")){Tuple{typeof(T_radio)}}((T_radio,)), getfield(TransportMatrixTools, Symbol(\"#G#19\")){Tuple{typeof(source_sink_radio)},getfield(TransportMatrixTools, Symbol(\"#tracers#15\")){Int64,Int64}}((source_sink_radio,), getfield(TransportMatrixTools, Symbol(\"#tracers#15\")){Int64,Int64}(1, 200160))), getfield(TransportMatrixTools, Symbol(\"#∇ₓF#23\")){getfield(TransportMatrixTools, Symbol(\"#T#17\")){Tuple{typeof(T_radio)}},getfield(TransportMatrixTools, Symbol(\"#∇ₓG#22\")){Tuple{typeof(source_sink_radio)},Int64,Int64}}(getfield(TransportMatrixTools, Symbol(\"#T#17\")){Tuple{typeof(T_radio)}}((T_radio,)), getfield(TransportMatrixTools, Symbol(\"#∇ₓG#22\")){Tuple{typeof(source_sink_radio)},Int64,Int64}((source_sink_radio,), 1, 200160)))"
      ]
     },
     "execution_count": 14,
     "metadata": {},
     "output_type": "execute_result"
    }
   ],
   "source": [
    "nt = 1                           # number of tracers\n",
    "T_matrices = (T_radio,)           # bundles all the transport matrices in a tuple\n",
    "sources_minus_sinks = (source_sink_radio,) # bundles all the source-sink functions in a tuple\n",
    "F, ∇ₓF = state_function_and_Jacobian(T_matrices, sources_minus_sinks, nt, nb) # generates the state function (and its Jacobian!)"
   ]
  },
  {
   "cell_type": "code",
   "execution_count": 15,
   "metadata": {},
   "outputs": [
    {
     "ename": "MethodError",
     "evalue": "MethodError: no method matching -(::Array{DualNumbers.Dual{Float64},1}, ::Float64)\nClosest candidates are:\n  -(!Matched::Float64, ::Float64) at float.jl:397\n  -(!Matched::Complex{Bool}, ::Real) at complex.jl:298\n  -(!Matched::Missing, ::Number) at missing.jl:97\n  ...",
     "output_type": "error",
     "traceback": [
      "MethodError: no method matching -(::Array{DualNumbers.Dual{Float64},1}, ::Float64)\nClosest candidates are:\n  -(!Matched::Float64, ::Float64) at float.jl:397\n  -(!Matched::Complex{Bool}, ::Real) at complex.jl:298\n  -(!Matched::Missing, ::Number) at missing.jl:97\n  ...",
      "",
      "Stacktrace:",
      " [1] source_sink_radio(::Array{DualNumbers.Dual{Float64},1}, ::TransportMatrixTools.Para{Float64}) at ./In[13]:5",
      " [2] (::getfield(TransportMatrixTools, Symbol(\"##28#33\")){typeof(source_sink_radio),Array{Float64,1},TransportMatrixTools.Para{Float64},getfield(TransportMatrixTools, Symbol(\"#e#29\")){Int64,Int64},getfield(TransportMatrixTools, Symbol(\"#tracers#31\")){Int64,Int64}})(::Int64) at ./none:0",
      " [3] iterate at ./generator.jl:47 [inlined]",
      " [4] collect(::Base.Generator{UnitRange{Int64},getfield(TransportMatrixTools, Symbol(\"##28#33\")){typeof(source_sink_radio),Array{Float64,1},TransportMatrixTools.Para{Float64},getfield(TransportMatrixTools, Symbol(\"#e#29\")){Int64,Int64},getfield(TransportMatrixTools, Symbol(\"#tracers#31\")){Int64,Int64}}}) at ./array.jl:606",
      " [5] local_jacobian_row(::Function, ::Array{Float64,1}, ::TransportMatrixTools.Para{Float64}, ::Int64, ::Int64) at /Users/fprimeau/.julia/packages/TransportMatrixTools/Asa3d/src/multiTracer.jl:27",
      " [6] (::getfield(TransportMatrixTools, Symbol(\"##24#25\")){Array{Float64,1},TransportMatrixTools.Para{Float64},Int64,Int64})(::Function) at ./none:0",
      " [7] iterate at ./generator.jl:47 [inlined]",
      " [8] collect(::Base.Generator{Tuple{typeof(source_sink_radio)},getfield(TransportMatrixTools, Symbol(\"##24#25\")){Array{Float64,1},TransportMatrixTools.Para{Float64},Int64,Int64}}) at ./array.jl:606",
      " [9] local_jacobian(::Tuple{typeof(source_sink_radio)}, ::Array{Float64,1}, ::TransportMatrixTools.Para{Float64}, ::Int64, ::Int64) at /Users/fprimeau/.julia/packages/TransportMatrixTools/Asa3d/src/multiTracer.jl:19",
      " [10] (::getfield(TransportMatrixTools, Symbol(\"#∇ₓG#22\")){Tuple{typeof(source_sink_radio)},Int64,Int64})(::Array{Float64,1}, ::TransportMatrixTools.Para{Float64}) at /Users/fprimeau/.julia/packages/TransportMatrixTools/Asa3d/src/multiTracer.jl:12",
      " [11] (::getfield(TransportMatrixTools, Symbol(\"#∇ₓF#23\")){getfield(TransportMatrixTools, Symbol(\"#T#17\")){Tuple{typeof(T_radio)}},getfield(TransportMatrixTools, Symbol(\"#∇ₓG#22\")){Tuple{typeof(source_sink_radio)},Int64,Int64}})(::Array{Float64,1}, ::TransportMatrixTools.Para{Float64}) at /Users/fprimeau/.julia/packages/TransportMatrixTools/Asa3d/src/multiTracer.jl:13",
      " [12] (::getfield(TransportMatrixTools, Symbol(\"#f#11\")){getfield(TransportMatrixTools, Symbol(\"#F#21\")){getfield(TransportMatrixTools, Symbol(\"#T#17\")){Tuple{typeof(T_radio)}},getfield(TransportMatrixTools, Symbol(\"#G#19\")){Tuple{typeof(source_sink_radio)},getfield(TransportMatrixTools, Symbol(\"#tracers#15\")){Int64,Int64}}},getfield(TransportMatrixTools, Symbol(\"#∇ₓF#23\")){getfield(TransportMatrixTools, Symbol(\"#T#17\")){Tuple{typeof(T_radio)}},getfield(TransportMatrixTools, Symbol(\"#∇ₓG#22\")){Tuple{typeof(source_sink_radio)},Int64,Int64}}})(::Array{Float64,1}, ::Array{Float64,1}, ::Array{Float64,1}, ::TransportMatrixTools.Para{Float64}, ::Int64) at /Users/fprimeau/.julia/packages/TransportMatrixTools/Asa3d/src/overload_solve.jl:48",
      " [13] (::DiffEqBase.ODEFunction{true,getfield(TransportMatrixTools, Symbol(\"#f#11\")){getfield(TransportMatrixTools, Symbol(\"#F#21\")){getfield(TransportMatrixTools, Symbol(\"#T#17\")){Tuple{typeof(T_radio)}},getfield(TransportMatrixTools, Symbol(\"#G#19\")){Tuple{typeof(source_sink_radio)},getfield(TransportMatrixTools, Symbol(\"#tracers#15\")){Int64,Int64}}},getfield(TransportMatrixTools, Symbol(\"#∇ₓF#23\")){getfield(TransportMatrixTools, Symbol(\"#T#17\")){Tuple{typeof(T_radio)}},getfield(TransportMatrixTools, Symbol(\"#∇ₓG#22\")){Tuple{typeof(source_sink_radio)},Int64,Int64}}},UniformScaling{Bool},Nothing,Nothing,Nothing,Nothing,Nothing,Nothing,Nothing,Nothing})(::Array{Float64,1}, ::Array{Float64,1}, ::Vararg{Any,N} where N) at /Users/fprimeau/.julia/packages/DiffEqBase/s4c9b/src/diffeqfunction.jl:188",
      " [14] (::getfield(TransportMatrixTools, Symbol(\"#∇ₓF#7\")){SteadyStateProblem{Array{Float64,1},true,TransportMatrixTools.Para{Float64},DiffEqBase.ODEFunction{true,getfield(TransportMatrixTools, Symbol(\"#f#11\")){getfield(TransportMatrixTools, Symbol(\"#F#21\")){getfield(TransportMatrixTools, Symbol(\"#T#17\")){Tuple{typeof(T_radio)}},getfield(TransportMatrixTools, Symbol(\"#G#19\")){Tuple{typeof(source_sink_radio)},getfield(TransportMatrixTools, Symbol(\"#tracers#15\")){Int64,Int64}}},getfield(TransportMatrixTools, Symbol(\"#∇ₓF#23\")){getfield(TransportMatrixTools, Symbol(\"#T#17\")){Tuple{typeof(T_radio)}},getfield(TransportMatrixTools, Symbol(\"#∇ₓG#22\")){Tuple{typeof(source_sink_radio)},Int64,Int64}}},UniformScaling{Bool},Nothing,Nothing,Nothing,Nothing,Nothing,Nothing,Nothing,Nothing}},TransportMatrixTools.Para{Float64},Int64,Array{Float64,1},Array{Float64,1}})(::Array{Float64,1}) at /Users/fprimeau/.julia/packages/TransportMatrixTools/Asa3d/src/overload_solve.jl:17",
      " [15] #NewtonChordShamanskii#3(::String, ::Int64, ::Function, ::Function, ::getfield(TransportMatrixTools, Symbol(\"#∇ₓF#7\")){SteadyStateProblem{Array{Float64,1},true,TransportMatrixTools.Para{Float64},DiffEqBase.ODEFunction{true,getfield(TransportMatrixTools, Symbol(\"#f#11\")){getfield(TransportMatrixTools, Symbol(\"#F#21\")){getfield(TransportMatrixTools, Symbol(\"#T#17\")){Tuple{typeof(T_radio)}},getfield(TransportMatrixTools, Symbol(\"#G#19\")){Tuple{typeof(source_sink_radio)},getfield(TransportMatrixTools, Symbol(\"#tracers#15\")){Int64,Int64}}},getfield(TransportMatrixTools, Symbol(\"#∇ₓF#23\")){getfield(TransportMatrixTools, Symbol(\"#T#17\")){Tuple{typeof(T_radio)}},getfield(TransportMatrixTools, Symbol(\"#∇ₓG#22\")){Tuple{typeof(source_sink_radio)},Int64,Int64}}},UniformScaling{Bool},Nothing,Nothing,Nothing,Nothing,Nothing,Nothing,Nothing,Nothing}},TransportMatrixTools.Para{Float64},Int64,Array{Float64,1},Array{Float64,1}}, ::Function, ::Array{Float64,1}, ::Float64) at /Users/fprimeau/.julia/packages/TransportMatrixTools/Asa3d/src/CTKsolvers.jl:119",
      " [16] (::getfield(TransportMatrixTools, Symbol(\"#kw##NewtonChordShamanskii\")))(::NamedTuple{(:preprint, :maxItNewton),Tuple{String,Int64}}, ::typeof(TransportMatrixTools.NewtonChordShamanskii), ::Function, ::Function, ::Function, ::Array{Float64,1}, ::Float64) at ./none:0",
      " [17] #solve#5(::Function, ::Float64, ::String, ::Int64, ::Function, ::SteadyStateProblem{Array{Float64,1},true,TransportMatrixTools.Para{Float64},DiffEqBase.ODEFunction{true,getfield(TransportMatrixTools, Symbol(\"#f#11\")){getfield(TransportMatrixTools, Symbol(\"#F#21\")){getfield(TransportMatrixTools, Symbol(\"#T#17\")){Tuple{typeof(T_radio)}},getfield(TransportMatrixTools, Symbol(\"#G#19\")){Tuple{typeof(source_sink_radio)},getfield(TransportMatrixTools, Symbol(\"#tracers#15\")){Int64,Int64}}},getfield(TransportMatrixTools, Symbol(\"#∇ₓF#23\")){getfield(TransportMatrixTools, Symbol(\"#T#17\")){Tuple{typeof(T_radio)}},getfield(TransportMatrixTools, Symbol(\"#∇ₓG#22\")){Tuple{typeof(source_sink_radio)},Int64,Int64}}},UniformScaling{Bool},Nothing,Nothing,Nothing,Nothing,Nothing,Nothing,Nothing,Nothing}}, ::CTKAlg) at /Users/fprimeau/.julia/packages/TransportMatrixTools/Asa3d/src/overload_solve.jl:19",
      " [18] solve(::SteadyStateProblem{Array{Float64,1},true,TransportMatrixTools.Para{Float64},DiffEqBase.ODEFunction{true,getfield(TransportMatrixTools, Symbol(\"#f#11\")){getfield(TransportMatrixTools, Symbol(\"#F#21\")){getfield(TransportMatrixTools, Symbol(\"#T#17\")){Tuple{typeof(T_radio)}},getfield(TransportMatrixTools, Symbol(\"#G#19\")){Tuple{typeof(source_sink_radio)},getfield(TransportMatrixTools, Symbol(\"#tracers#15\")){Int64,Int64}}},getfield(TransportMatrixTools, Symbol(\"#∇ₓF#23\")){getfield(TransportMatrixTools, Symbol(\"#T#17\")){Tuple{typeof(T_radio)}},getfield(TransportMatrixTools, Symbol(\"#∇ₓG#22\")){Tuple{typeof(source_sink_radio)},Int64,Int64}}},UniformScaling{Bool},Nothing,Nothing,Nothing,Nothing,Nothing,Nothing,Nothing,Nothing}}, ::CTKAlg) at /Users/fprimeau/.julia/packages/TransportMatrixTools/Asa3d/src/overload_solve.jl:12",
      " [19] top-level scope at In[15]:3"
     ]
    }
   ],
   "source": [
    "x₀ = ones(nb)\n",
    "prob = SteadyStateProblem(F, ∇ₓF, x₀, p₀)\n",
    "R = solve(prob, CTKAlg())"
   ]
  },
  {
   "cell_type": "code",
   "execution_count": null,
   "metadata": {},
   "outputs": [],
   "source": []
  }
 ],
 "metadata": {
  "kernelspec": {
   "display_name": "Julia 1.1.0",
   "language": "julia",
   "name": "julia-1.1"
  },
  "language_info": {
   "file_extension": ".jl",
   "mimetype": "application/julia",
   "name": "julia",
   "version": "1.1.0"
  }
 },
 "nbformat": 4,
 "nbformat_minor": 2
}
