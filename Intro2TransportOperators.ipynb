{
 "cells": [
  {
   "cell_type": "markdown",
   "metadata": {},
   "source": [
    "## Introduction to global ocean biogeochemical modelling with transport operators\n",
    "To model marine biogeochemical processes on a global scale we need to be able to account for the movement of chemical constituents both horizontally and vertically. We do this with a <b><i>tracer transport operator</i></b>.  When this operator acts on a tracer field it produces the advective-diffusive divergence of the tracer.\n",
    "\n",
    "In order to represent the transport operator on a computer we have to discretize the tracer concentration field and the operator.  Once discretized the tracer field is represented as a vector and the operator is represented as a sparse matrix. (A sparse matrix behaves the same way as a regular matrix. The only difference is that in a sparse matrix the majority of the entries are zeros. These zeros are not stored explicitly to save computer memory making it possible to deal with fairly high resolution ocean models. \n",
    "\n",
    "Mathematically, the discretization converts an expression with partial derivatives into a matrix vector product:\n",
    "\n",
    "$$\\nabla \\cdot \\left[\\mathbf{u}-\\mathbf{K}\\cdot\\nabla \\right]C \\longrightarrow \\mathbf{T}\\mathbf{c}$$\n",
    "\n",
    "where $\\mathbf{T}$ is the flux divergence transport matrix and $\\mathbf{c}$ is the tracer concentration vector. \n",
    "\n",
    "One can go a long way towards understanding what a tracer transport operator is by playing with a simple box model. We therefore introuce a simple box model before moving on to the <i>Ocean Circulation Inverse Model</i> (OCIM).\n"
   ]
  },
  {
   "cell_type": "markdown",
   "metadata": {},
   "source": [
    "The simple box model we consider is embeded in a $2\\times2\\times2$ \"shoebox\". It has 5 <i>wet</i> boxes and 3 <i>dry</i> boxes.\n",
    "<img src=\"boxmodel.png\" width =800>"
   ]
  },
  {
   "cell_type": "code",
   "execution_count": 12,
   "metadata": {},
   "outputs": [],
   "source": [
    "a = 6367e3   # Earth radius           (m)\n",
    "A = 4*pi*a^2 # Earth surface area     (m²)\n",
    "d = 3700     # ocean depth            (m)\n",
    "V = 0.75*A*d # volume of ocean        (m³)\n",
    "h = 200      # thickness of top layer (m)\n",
    "\n",
    "dz = [h*ones(4,1);(d-h)*ones(4,1)] # grid box thicknesses       (m)\n",
    "dV = (dz/d).*((V/4)*ones(8,1))     # grid box volumes           (m³)\n",
    "dAz = dV./dz                       # area of face ⟂ to z axis   (m²)\n",
    "dy = sqrt.(dAz)                    # north-south side length    (m)\n",
    "dx = sqrt.(dAz)                    # east-west side length      (m)\n",
    "dAx = dV./dy                       # area of face ⟂ to x axis   (m²)\n",
    "dAy = dV./dx                       # area of face ⟂ to y axis   (m²)\n",
    "\n",
    "msk = [1, 1, 1, 0, 1, 1, 0, 0]     # wet-dry mask wet=1 dry = 0 \n",
    "iwet = findall(x -> x == 1, msk)        # index to wet gridboxes\n",
    "idry = findall(x -> x == 0, msk)        # index to dry gridboxes\n",
    "srf = [1, 1, 1, 0, 0]              # surface mask srface=1 bottom = 0\n",
    "isrf = findall(x -> x == 1, srf) ;"
   ]
  },
  {
   "cell_type": "markdown",
   "metadata": {},
   "source": [
    "The circulation consists of \n",
    "<ul>\n",
    "    <li>a meridional overturning circulation flowing from box 1 to box 2 to box 6 to box 5 and back to box 1</li>\n",
    "    <li>a zonal current in a reentrant channel from box 1 to box 3 and back to box 1</li>\n",
    "    <li>vertical mixing representing deep convection between box 2 and box 6</li>\n",
    "</ul>\n",
    "    "
   ]
  },
  {
   "cell_type": "code",
   "execution_count": 13,
   "metadata": {},
   "outputs": [
    {
     "data": {
      "text/plain": [
       "5×5 Array{Float64,2}:\n",
       " -6.01987e-9   0.0          5.23467e-9   7.852e-10     0.0        \n",
       "  7.852e-10   -1.30867e-9   0.0          0.0           5.23467e-10\n",
       "  5.23467e-9   0.0         -5.23467e-9   0.0           0.0        \n",
       "  0.0          0.0          0.0         -4.48686e-11   4.48686e-11\n",
       "  0.0          7.4781e-11   0.0          0.0          -7.4781e-11 "
      ]
     },
     "execution_count": 13,
     "metadata": {},
     "output_type": "execute_result"
    }
   ],
   "source": [
    "using LinearAlgebra\n",
    "using SparseArrays\n",
    "TRdiv = spzeros(8,8)\n",
    "# \"Antarctic Circumpoloar Current\"\n",
    "acc = 100e6  # (m³/s)\n",
    "TRdiv += sparse([1,1],[1,3],dV[1]\\[-acc,acc],8,8)\n",
    "TRdiv += sparse([3,3],[3,1],dV[3]\\[-acc,acc],8,8)\n",
    "# \"Meridional Overturning Circulation\"\n",
    "moc = 15e6    # (m³/s)\n",
    "TRdiv += sparse([1,1],[1,5],dV[1]\\[-moc,moc],8,8)\n",
    "TRdiv += sparse([2,2],[2,1],dV[2]\\[-moc,moc],8,8)\n",
    "TRdiv += sparse([5,5],[5,6],dV[5]\\[-moc,moc],8,8)\n",
    "TRdiv += sparse([6,6],[6,2],dV[6]\\[-moc,moc],8,8)\n",
    "# vertical mixing at \"high northern latitudes\"\n",
    "q = 10e6      # (m³/s)\n",
    "TRdiv += sparse([2,2],[2,6],dV[2]\\[-q,q],8,8)\n",
    "TRdiv += sparse([6,6],[6,2],dV[6]\\[-q,q],8,8)\n",
    "TRdiv = TRdiv[iwet,iwet]\n",
    "Matrix(TRdiv)"
   ]
  },
  {
   "cell_type": "markdown",
   "metadata": {},
   "source": [
    "## An idealized radiocarbon simulation\n",
    "Radiocarbon, <sup>14</sup>C, is produced by cosmic rays in the lower stratosphere and upper troposphere. It quickly reacts with oxygen to produce <sup>14</sup>CO<sub>2</sub>, which is then mixed throughout the troposphere and enters the ocean through air-sea gas exchange. Because the halflife of radiocarbon is only 5730 years a significant amount of deday can occur before the dissolved inorganic radiocarbon (DI<sup>14</sup>C) can mix uniformally throughout the ocean. As such the <sup>14</sup>C serves as a tracer label for water that was recently in contact with the atmosphere. \n",
    "\n",
    "Here we will perform an idealized radiocarbon simulation in our model. In this model we prescribe the atmospheric concentration to 1 and model the air-sea gas exchange using a constant piston velocity of $\\kappa = $50m/10years. For the radioactive decay we use a timescale of $\\tau =$(5730 years)/$\\log(2)$."
   ]
  },
  {
   "cell_type": "code",
   "execution_count": 14,
   "metadata": {},
   "outputs": [],
   "source": [
    "sec_per_year = 365*24*60*60; \n",
    "κ = 50/(10*sec_per_year)     # m/s\n",
    "τ = 5730*sec_per_year/log(2); # 1/s"
   ]
  },
  {
   "cell_type": "code",
   "execution_count": 15,
   "metadata": {},
   "outputs": [],
   "source": [
    "M = TRdiv\n",
    "M += -κ*spdiagm(0 => srf)/h   # air-sea loss operator\n",
    "M += spdiagm(0 => ones(5))/τ  # radioactive decay loss operator\n",
    "s = κ*srf/h;                  # air-sea source rate"
   ]
  },
  {
   "cell_type": "code",
   "execution_count": 16,
   "metadata": {},
   "outputs": [],
   "source": [
    "R = - M\\s;"
   ]
  },
  {
   "cell_type": "code",
   "execution_count": 17,
   "metadata": {},
   "outputs": [
    {
     "data": {
      "text/plain": [
       "5-element Array{Float64,1}:\n",
       "  643.9172442117496\n",
       "  496.7969498748243\n",
       "  567.3000097505122\n",
       " 1670.8703768740365\n",
       "  932.0947213381232"
      ]
     },
     "execution_count": 17,
     "metadata": {},
     "output_type": "execute_result"
    }
   ],
   "source": [
    "age = τ*log.(R)/sec_per_year"
   ]
  },
  {
   "cell_type": "markdown",
   "metadata": {},
   "source": [
    "## An idealized simulation of a radioactive tracer with an atmospheric origin usig OCIM"
   ]
  },
  {
   "cell_type": "code",
   "execution_count": 18,
   "metadata": {},
   "outputs": [
    {
     "name": "stderr",
     "output_type": "stream",
     "text": [
      "WARNING: redefining constant p₀\n",
      "WARNING: redefining constant mean_pobs\n",
      "WARNING: redefining constant variance_pobs\n"
     ]
    }
   ],
   "source": [
    "using AIBECS\n",
    "t = empty_parameter_table()               # initialize table of parameters\n",
    "add_parameter!(t, :τ, 5730u\"yr\" / log(2)) # add the radioactive decay e-folding timescale\n",
    "add_parameter!(t, :κ, 50u\"m\" / 10u\"yr\")\n",
    "initialize_Parameters_type(t)             # Generate the parameter table"
   ]
  },
  {
   "cell_type": "code",
   "execution_count": 19,
   "metadata": {},
   "outputs": [
    {
     "data": {
      "text/html": [
       "<table class=\"data-frame\"><thead><tr><th></th><th>symbol</th><th>value</th><th>unit</th><th>printunit</th><th>mean_obs</th><th>variance_obs</th><th>optimizable</th><th>description</th></tr><tr><th></th><th>Symbol</th><th>Float64</th><th>Unitful…</th><th>Unitful…</th><th>Float64</th><th>Float64</th><th>Bool</th><th>String</th></tr></thead><tbody><p>2 rows × 9 columns (omitted printing of 1 columns)</p><tr><th>1</th><td>τ</td><td>2.60875e11</td><td>s</td><td>yr</td><td>NaN</td><td>NaN</td><td>false</td><td></td></tr><tr><th>2</th><td>κ</td><td>1.5844e-7</td><td>m s^-1</td><td>m yr^-1</td><td>NaN</td><td>NaN</td><td>false</td><td></td></tr></tbody></table>"
      ],
      "text/latex": [
       "\\begin{tabular}{r|ccccccccc}\n",
       "\t& symbol & value & unit & printunit & mean\\_obs & variance\\_obs & optimizable & description & \\\\\n",
       "\t\\hline\n",
       "\t& Symbol & Float64 & Unitful… & Unitful… & Float64 & Float64 & Bool & String & \\\\\n",
       "\t\\hline\n",
       "\t1 & τ & 2.60875e11 & s & yr & NaN & NaN & false &  & $\\dots$ \\\\\n",
       "\t2 & κ & 1.5844e-7 & m s\\^-1 & m yr\\^-1 & NaN & NaN & false &  & $\\dots$ \\\\\n",
       "\\end{tabular}\n"
      ],
      "text/plain": [
       "2×9 DataFrames.DataFrame. Omitted printing of 3 columns\n",
       "│ Row │ symbol │ value      │ unit     │ printunit │ mean_obs │ variance_obs │\n",
       "│     │ \u001b[90mSymbol\u001b[39m │ \u001b[90mFloat64\u001b[39m    │ \u001b[90mUnitful…\u001b[39m │ \u001b[90mUnitful…\u001b[39m  │ \u001b[90mFloat64\u001b[39m  │ \u001b[90mFloat64\u001b[39m      │\n",
       "├─────┼────────┼────────────┼──────────┼───────────┼──────────┼──────────────┤\n",
       "│ 1   │ τ      │ 2.60875e11 │ s        │ yr        │ NaN      │ NaN          │\n",
       "│ 2   │ κ      │ 1.5844e-7  │ m s^-1   │ m yr^-1   │ NaN      │ NaN          │"
      ]
     },
     "execution_count": 19,
     "metadata": {},
     "output_type": "execute_result"
    }
   ],
   "source": [
    "t"
   ]
  },
  {
   "cell_type": "code",
   "execution_count": 20,
   "metadata": {},
   "outputs": [
    {
     "data": {
      "text/plain": [
       "     τ = 8.27e+03 [yr] (fixed)\n",
       "     κ = 5.00e+00 [m yr⁻¹] (fixed)\n"
      ]
     },
     "execution_count": 20,
     "metadata": {},
     "output_type": "execute_result"
    },
    {
     "name": "stdout",
     "output_type": "stream",
     "text": [
      "AIBECS.Parameters{Float64}\n"
     ]
    }
   ],
   "source": [
    "# I added this cell for you to see how it prints nicely with the \"print\" units\n",
    "# The table `t` prints the value in the SI units, \n",
    "# while the parameter p₀ prints in the units you used to create it\n",
    "p₀"
   ]
  },
  {
   "cell_type": "code",
   "execution_count": 21,
   "metadata": {},
   "outputs": [
    {
     "name": "stdout",
     "output_type": "stream",
     "text": [
      "Loading OCIM1 with JLD2"
     ]
    },
    {
     "name": "stderr",
     "output_type": "stream",
     "text": [
      "┌ Warning: Over-writing registration of the datadep\n",
      "│   name = MatricesForJAMES\n",
      "└ @ DataDeps /Users/fprimeau/.julia/packages/DataDeps/LiEdA/src/registration.jl:8\n"
     ]
    },
    {
     "name": "stdout",
     "output_type": "stream",
     "text": [
      " ✅\n"
     ]
    },
    {
     "name": "stderr",
     "output_type": "stream",
     "text": [
      "WARNING: redefining constant mask\n",
      "WARNING: redefining constant grd\n",
      "WARNING: redefining constant T_OCIM\n"
     ]
    },
    {
     "data": {
      "text/plain": [
       "T_radio (generic function with 1 method)"
      ]
     },
     "execution_count": 21,
     "metadata": {},
     "output_type": "execute_result"
    }
   ],
   "source": [
    "const mask, grd, T_OCIM = OCIM1.load() ;\n",
    "T_radio(p) = T_OCIM"
   ]
  },
  {
   "cell_type": "code",
   "execution_count": 22,
   "metadata": {},
   "outputs": [
    {
     "name": "stderr",
     "output_type": "stream",
     "text": [
      "WARNING: redefining constant z\n"
     ]
    },
    {
     "data": {
      "text/plain": [
       "5-element Array{Float64,1}:\n",
       " 18.0675569520817\n",
       " 18.0675569520817\n",
       " 18.0675569520817\n",
       " 18.0675569520817\n",
       " 18.0675569520817"
      ]
     },
     "execution_count": 22,
     "metadata": {},
     "output_type": "execute_result"
    }
   ],
   "source": [
    "# I changed the syntax here, and refactored the non-explicit `constants` function\n",
    "# into small, explicit functions:\n",
    "const z = vector_of_depths(mask, grd)\n",
    "const nb = number_of_wet_boxes(mask)\n",
    "# I'd suggest putting this constant as a constant, outside of the source/sink functions\n",
    "const dz1 = grd[\"dzt\"][1]\n",
    "grd\n",
    "const z = vec(grd[\"ZT3d\"])[iwet]"
   ]
  },
  {
   "cell_type": "code",
   "execution_count": 23,
   "metadata": {},
   "outputs": [
    {
     "data": {
      "text/plain": [
       "source_sink_radio (generic function with 1 method)"
      ]
     },
     "execution_count": 23,
     "metadata": {},
     "output_type": "execute_result"
    }
   ],
   "source": [
    "function source_sink_radio(R, p)\n",
    "    τ = p.τ\n",
    "    κ = p.κ\n",
    "    return κ * (z .< 20) .* (R .- 1.0) / dz1 - R ./ τ\n",
    "end"
   ]
  },
  {
   "cell_type": "code",
   "execution_count": 24,
   "metadata": {},
   "outputs": [
    {
     "data": {
      "text/plain": [
       "(getfield(AIBECS, Symbol(\"#F#21\")){getfield(AIBECS, Symbol(\"#T#17\")){Tuple{typeof(T_radio)}},getfield(AIBECS, Symbol(\"#G#19\")){Tuple{typeof(source_sink_radio)},getfield(AIBECS, Symbol(\"#tracers#15\")){Int64,Int64}}}(getfield(AIBECS, Symbol(\"#T#17\")){Tuple{typeof(T_radio)}}((T_radio,)), getfield(AIBECS, Symbol(\"#G#19\")){Tuple{typeof(source_sink_radio)},getfield(AIBECS, Symbol(\"#tracers#15\")){Int64,Int64}}((source_sink_radio,), getfield(AIBECS, Symbol(\"#tracers#15\")){Int64,Int64}(200160, 1))), getfield(AIBECS, Symbol(\"#∇ₓF#23\")){getfield(AIBECS, Symbol(\"#T#17\")){Tuple{typeof(T_radio)}},getfield(AIBECS, Symbol(\"#∇ₓG#22\")){Tuple{typeof(source_sink_radio)},Int64,Int64}}(getfield(AIBECS, Symbol(\"#T#17\")){Tuple{typeof(T_radio)}}((T_radio,)), getfield(AIBECS, Symbol(\"#∇ₓG#22\")){Tuple{typeof(source_sink_radio)},Int64,Int64}((source_sink_radio,), 200160, 1)))"
      ]
     },
     "execution_count": 24,
     "metadata": {},
     "output_type": "execute_result"
    }
   ],
   "source": [
    "T_matrices = (T_radio,)           # bundles all the transport matrices in a tuple\n",
    "sources_minus_sinks = (source_sink_radio,) # bundles all the source-sink functions in a tuple\n",
    "F, ∇ₓF = state_function_and_Jacobian(T_matrices, sources_minus_sinks, nb) # generates the state function (and its Jacobian!)"
   ]
  },
  {
   "cell_type": "code",
   "execution_count": 26,
   "metadata": {},
   "outputs": [
    {
     "ename": "DimensionMismatch",
     "evalue": "DimensionMismatch(\"arrays could not be broadcast to a common size\")",
     "output_type": "error",
     "traceback": [
      "DimensionMismatch(\"arrays could not be broadcast to a common size\")",
      "",
      "Stacktrace:",
      " [1] _bcs1 at ./broadcast.jl:438 [inlined]",
      " [2] _bcs at ./broadcast.jl:432 [inlined]",
      " [3] broadcast_shape at ./broadcast.jl:426 [inlined]",
      " [4] combine_axes at /Users/fprimeau/.julia/packages/DiffEqBase/s4c9b/src/diffeqfastbc.jl:18 [inlined]",
      " [5] instantiate at ./broadcast.jl:255 [inlined]",
      " [6] materialize at ./broadcast.jl:753 [inlined]",
      " [7] source_sink_radio(::Array{DualNumbers.Dual{Float64},1}, ::AIBECS.Parameters{Float64}) at ./In[23]:4",
      " [8] (::getfield(AIBECS, Symbol(\"##28#33\")){typeof(source_sink_radio),Array{Float64,1},AIBECS.Parameters{Float64},getfield(AIBECS, Symbol(\"#e#29\")){Int64,Int64},getfield(AIBECS, Symbol(\"#tracers#31\")){Int64,Int64}})(::Int64) at ./none:0",
      " [9] iterate at ./generator.jl:47 [inlined]",
      " [10] collect(::Base.Generator{UnitRange{Int64},getfield(AIBECS, Symbol(\"##28#33\")){typeof(source_sink_radio),Array{Float64,1},AIBECS.Parameters{Float64},getfield(AIBECS, Symbol(\"#e#29\")){Int64,Int64},getfield(AIBECS, Symbol(\"#tracers#31\")){Int64,Int64}}}) at ./array.jl:606",
      " [11] collect(::Base.Generator{Tuple{typeof(source_sink_radio)},getfield(AIBECS, Symbol(\"##24#25\")){Array{Float64,1},AIBECS.Parameters{Float64},Int64,Int64}}) at /Users/fprimeau/.julia/packages/AIBECS/AYJIm/src/multiTracer.jl:28",
      " [12] local_jacobian at /Users/fprimeau/.julia/packages/AIBECS/AYJIm/src/multiTracer.jl:20 [inlined]",
      " [13] ∇ₓG at /Users/fprimeau/.julia/packages/AIBECS/AYJIm/src/multiTracer.jl:13 [inlined]",
      " [14] (::getfield(AIBECS, Symbol(\"#∇ₓF#23\")){getfield(AIBECS, Symbol(\"#T#17\")){Tuple{typeof(T_radio)}},getfield(AIBECS, Symbol(\"#∇ₓG#22\")){Tuple{typeof(source_sink_radio)},Int64,Int64}})(::Array{Float64,1}, ::AIBECS.Parameters{Float64}) at /Users/fprimeau/.julia/packages/AIBECS/AYJIm/src/multiTracer.jl:14",
      " [15] f at /Users/fprimeau/.julia/packages/AIBECS/AYJIm/src/overload_solve.jl:48 [inlined]",
      " [16] ODEFunction at /Users/fprimeau/.julia/packages/DiffEqBase/s4c9b/src/diffeqfunction.jl:188 [inlined]",
      " [17] ∇ₓF at /Users/fprimeau/.julia/packages/AIBECS/AYJIm/src/overload_solve.jl:17 [inlined]",
      " [18] #NewtonChordShamanskii#3(::String, ::Int64, ::Function, ::Function, ::getfield(AIBECS, Symbol(\"#∇ₓF#7\")){SteadyStateProblem{Array{Float64,1},true,AIBECS.Parameters{Float64},DiffEqBase.ODEFunction{true,getfield(AIBECS, Symbol(\"#f#11\")){getfield(AIBECS, Symbol(\"#F#21\")){getfield(AIBECS, Symbol(\"#T#17\")){Tuple{typeof(T_radio)}},getfield(AIBECS, Symbol(\"#G#19\")){Tuple{typeof(source_sink_radio)},getfield(AIBECS, Symbol(\"#tracers#15\")){Int64,Int64}}},getfield(AIBECS, Symbol(\"#∇ₓF#23\")){getfield(AIBECS, Symbol(\"#T#17\")){Tuple{typeof(T_radio)}},getfield(AIBECS, Symbol(\"#∇ₓG#22\")){Tuple{typeof(source_sink_radio)},Int64,Int64}}},UniformScaling{Bool},Nothing,Nothing,Nothing,Nothing,Nothing,Nothing,Nothing,Nothing}},AIBECS.Parameters{Float64},Int64,Array{Float64,1},Array{Float64,1}}, ::Function, ::Array{Float64,1}, ::Float64) at /Users/fprimeau/.julia/packages/AIBECS/AYJIm/src/CTKsolvers.jl:119",
      " [19] #NewtonChordShamanskii at ./none:0 [inlined]",
      " [20] #solve#5(::Function, ::Float64, ::String, ::Int64, ::Function, ::SteadyStateProblem{Array{Float64,1},true,AIBECS.Parameters{Float64},DiffEqBase.ODEFunction{true,getfield(AIBECS, Symbol(\"#f#11\")){getfield(AIBECS, Symbol(\"#F#21\")){getfield(AIBECS, Symbol(\"#T#17\")){Tuple{typeof(T_radio)}},getfield(AIBECS, Symbol(\"#G#19\")){Tuple{typeof(source_sink_radio)},getfield(AIBECS, Symbol(\"#tracers#15\")){Int64,Int64}}},getfield(AIBECS, Symbol(\"#∇ₓF#23\")){getfield(AIBECS, Symbol(\"#T#17\")){Tuple{typeof(T_radio)}},getfield(AIBECS, Symbol(\"#∇ₓG#22\")){Tuple{typeof(source_sink_radio)},Int64,Int64}}},UniformScaling{Bool},Nothing,Nothing,Nothing,Nothing,Nothing,Nothing,Nothing,Nothing}}, ::CTKAlg) at /Users/fprimeau/.julia/packages/AIBECS/AYJIm/src/overload_solve.jl:19",
      " [21] solve(::SteadyStateProblem{Array{Float64,1},true,AIBECS.Parameters{Float64},DiffEqBase.ODEFunction{true,getfield(AIBECS, Symbol(\"#f#11\")){getfield(AIBECS, Symbol(\"#F#21\")){getfield(AIBECS, Symbol(\"#T#17\")){Tuple{typeof(T_radio)}},getfield(AIBECS, Symbol(\"#G#19\")){Tuple{typeof(source_sink_radio)},getfield(AIBECS, Symbol(\"#tracers#15\")){Int64,Int64}}},getfield(AIBECS, Symbol(\"#∇ₓF#23\")){getfield(AIBECS, Symbol(\"#T#17\")){Tuple{typeof(T_radio)}},getfield(AIBECS, Symbol(\"#∇ₓG#22\")){Tuple{typeof(source_sink_radio)},Int64,Int64}}},UniformScaling{Bool},Nothing,Nothing,Nothing,Nothing,Nothing,Nothing,Nothing,Nothing}}, ::CTKAlg) at /Users/fprimeau/.julia/packages/AIBECS/AYJIm/src/overload_solve.jl:12",
      " [22] top-level scope at In[26]:3"
     ]
    }
   ],
   "source": [
    "x₀ = ones(nb)\n",
    "prob = SteadyStateProblem(F, ∇ₓF, x₀, p₀)\n",
    "R = solve(prob, CTKAlg())\n",
    "c14age = τ*log.(R)/sec_per_year"
   ]
  },
  {
   "cell_type": "code",
   "execution_count": 23,
   "metadata": {},
   "outputs": [
    {
     "data": {
      "text/plain": [
       "([-89.011, -87.033, -85.0549, -83.0769, -81.0989, -79.1209, -77.1429, -75.1648, -73.1868, -71.2088  …  71.2088, 73.1868, 75.1648, 77.1429, 79.1209, 81.0989, 83.0769, 85.0549, 87.033, 89.011], [1.0, 3.0, 5.0, 7.0, 9.0, 11.0, 13.0, 15.0, 17.0, 19.0  …  341.0, 343.0, 345.0, 347.0, 349.0, 351.0, 353.0, 355.0, 357.0, 359.0])"
      ]
     },
     "execution_count": 23,
     "metadata": {},
     "output_type": "execute_result"
    }
   ],
   "source": [
    "lat, lon = vec(grd[\"yt\"]), vec(grd[\"xt\"])"
   ]
  },
  {
   "cell_type": "code",
   "execution_count": 24,
   "metadata": {},
   "outputs": [
    {
     "name": "stderr",
     "output_type": "stream",
     "text": [
      "┌ Info: Precompiling PyPlot [d330b81b-6aea-500a-939a-2ce795aea3ee]\n",
      "└ @ Base loading.jl:1186\n"
     ]
    },
    {
     "ename": "InterruptException",
     "evalue": "InterruptException:",
     "output_type": "error",
     "traceback": [
      "InterruptException:",
      "",
      "Stacktrace:",
      " [1] _include_from_serialized(::String, ::Array{Any,1}) at ./loading.jl:617",
      " [2] _require_search_from_serialized(::Base.PkgId, ::String) at ./loading.jl:713",
      " [3] _tryrequire_from_serialized(::Base.PkgId, ::UInt64, ::Nothing) at ./loading.jl:648",
      " [4] _require_from_serialized(::String) at ./loading.jl:679",
      " [5] _require(::Base.PkgId) at ./loading.jl:967",
      " [6] require(::Base.PkgId) at ./loading.jl:858",
      " [7] require(::Module, ::Symbol) at ./loading.jl:853",
      " [8] top-level scope at In[24]:2"
     ]
    }
   ],
   "source": [
    "ENV[\"MPLBACKEND\"]=\"qt5agg\"\n",
    "using PyPlot, PyCall"
   ]
  },
  {
   "cell_type": "code",
   "execution_count": null,
   "metadata": {},
   "outputs": [],
   "source": [
    "ccrs = pyimport(\"cartopy.crs\")\n",
    "ax = subplot(projection=ccrs.Robinson(central_longitude=-155.0))\n",
    "ax.coastlines()\n",
    "# making it cyclic for Cartopy\n",
    "lon_cyc = [lon; 360+lon[1]] \n",
    "age_cyc = hcat(age_3d_1000m_yr, age_3d_1000m_yr[:,1])\n",
    "# And plot\n",
    "p = contourf(lon_cyc, lat, age_cyc, levels=0:100:1200, transform=ccrs.PlateCarree(), zorder=-1)\n",
    "colorbar(p, orientation=\"horizontal\")"
   ]
  }
 ],
 "metadata": {
  "kernelspec": {
   "display_name": "Julia 1.1.0",
   "language": "julia",
   "name": "julia-1.1"
  },
  "language_info": {
   "file_extension": ".jl",
   "mimetype": "application/julia",
   "name": "julia",
   "version": "1.1.0"
  }
 },
 "nbformat": 4,
 "nbformat_minor": 2
}
