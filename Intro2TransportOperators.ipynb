{
 "cells": [
  {
   "cell_type": "markdown",
   "metadata": {},
   "source": [
    "## Introduction to global ocean biogeochemical modelling with transport operators\n",
    "To model marine biogeochemical processes on a global scale we need to be able to account for the movement of chemical constituents both horizontally and vertically. We do this with a <b><i>tracer transport operator</i></b>.  When this operator acts on a tracer field it produces the advective-diffusive divergence of the tracer.\n",
    "\n",
    "In order to represent the transport operator on a computer we have to discretize the tracer concentration field and the operator.  Once discretized the tracer field is represented as a vector and the operator is represented as a sparse matrix. (A sparse matrix behaves the same way as a regular matrix. The only difference is that in a sparse matrix the majority of the entries are zeros. These zeros are not stored explicitly to save computer memory making it possible to deal with fairly high resolution ocean models. \n",
    "\n",
    "Mathematically, the discretization converts an expression with partial derivatives into a matrix vector product:\n",
    "\n",
    "$$\\nabla \\cdot \\left[\\mathbf{u}-\\mathbf{K}\\cdot\\nabla \\right]C \\longrightarrow \\mathbf{T}\\mathbf{c}$$\n",
    "\n",
    "where $\\mathbf{T}$ is the flux divergence transport matrix and $\\mathbf{c}$ is the tracer concentration vector. \n",
    "\n",
    "One can go a long way towards understanding what a tracer transport operator is by playing with a simple box model. We therefore introuce a simple box model before moving on to the <i>Ocean Circulation Inverse Model</i> (OCIM).\n"
   ]
  },
  {
   "cell_type": "markdown",
   "metadata": {},
   "source": [
    "The simple box model we consider is embeded in a $2\\times2\\times2$ \"shoebox\". It has 5 <i>wet</i> boxes and 3 <i>dry</i> boxes.\n",
    "<img src=\"boxmodel.png\" width =800>"
   ]
  },
  {
   "cell_type": "code",
   "execution_count": 1,
   "metadata": {},
   "outputs": [],
   "source": [
    "a = 6367e3   # Earth radius           (m)\n",
    "A = 4*pi*a^2 # Earth surface area     (m²)\n",
    "d = 3700     # ocean depth            (m)\n",
    "V = 0.75*A*d # volume of ocean        (m³)\n",
    "h = 200      # thickness of top layer (m)\n",
    "\n",
    "dz = [h*ones(4,1);(d-h)*ones(4,1)] # grid box thicknesses       (m)\n",
    "dV = (dz/d).*((V/4)*ones(8,1))     # grid box volumes           (m³)\n",
    "dAz = dV./dz                       # area of face ⟂ to z axis   (m²)\n",
    "dy = sqrt.(dAz)                    # north-south side length    (m)\n",
    "dx = sqrt.(dAz)                    # east-west side length      (m)\n",
    "dAx = dV./dy                       # area of face ⟂ to x axis   (m²)\n",
    "dAy = dV./dx                       # area of face ⟂ to y axis   (m²)\n",
    "\n",
    "msk = [1, 1, 1, 0, 1, 1, 0, 0]     # wet-dry mask wet=1 dry = 0 \n",
    "iwet = findall(x -> x == 1, msk)        # index to wet gridboxes\n",
    "idry = findall(x -> x == 0, msk)        # index to dry gridboxes\n",
    "srf = [1, 1, 1, 0, 0]              # surface mask srface=1 bottom = 0\n",
    "isrf = findall(x -> x == 1, srf) ;"
   ]
  },
  {
   "cell_type": "markdown",
   "metadata": {},
   "source": [
    "The circulation consists of \n",
    "<ul>\n",
    "    <li>a meridional overturning circulation flowing from box 1 to box 2 to box 6 to box 5 and back to box 1</li>\n",
    "    <li>a zonal current in a reentrant channel from box 1 to box 3 and back to box 1</li>\n",
    "    <li>vertical mixing representing deep convection between box 2 and box 6</li>\n",
    "</ul>\n",
    "    "
   ]
  },
  {
   "cell_type": "code",
   "execution_count": 2,
   "metadata": {},
   "outputs": [
    {
     "data": {
      "text/plain": [
       "5×5 Array{Float64,2}:\n",
       " -6.01987e-9   0.0          5.23467e-9   7.852e-10     0.0        \n",
       "  7.852e-10   -1.30867e-9   0.0          0.0           5.23467e-10\n",
       "  5.23467e-9   0.0         -5.23467e-9   0.0           0.0        \n",
       "  0.0          0.0          0.0         -4.48686e-11   4.48686e-11\n",
       "  0.0          7.4781e-11   0.0          0.0          -7.4781e-11 "
      ]
     },
     "execution_count": 2,
     "metadata": {},
     "output_type": "execute_result"
    }
   ],
   "source": [
    "using LinearAlgebra\n",
    "using SparseArrays\n",
    "TRdiv = spzeros(8,8)\n",
    "# \"Antarctic Circumpoloar Current\"\n",
    "acc = 100e6  # (m³/s)\n",
    "TRdiv += sparse([1,1],[1,3],dV[1]\\[-acc,acc],8,8)\n",
    "TRdiv += sparse([3,3],[3,1],dV[3]\\[-acc,acc],8,8)\n",
    "# \"Meridional Overturning Circulation\"\n",
    "moc = 15e6    # (m³/s)\n",
    "TRdiv += sparse([1,1],[1,5],dV[1]\\[-moc,moc],8,8)\n",
    "TRdiv += sparse([2,2],[2,1],dV[2]\\[-moc,moc],8,8)\n",
    "TRdiv += sparse([5,5],[5,6],dV[5]\\[-moc,moc],8,8)\n",
    "TRdiv += sparse([6,6],[6,2],dV[6]\\[-moc,moc],8,8)\n",
    "# vertical mixing at \"high northern latitudes\"\n",
    "q = 10e6      # (m³/s)\n",
    "TRdiv += sparse([2,2],[2,6],dV[2]\\[-q,q],8,8)\n",
    "TRdiv += sparse([6,6],[6,2],dV[6]\\[-q,q],8,8)\n",
    "TRdiv = TRdiv[iwet,iwet]\n",
    "Matrix(TRdiv)"
   ]
  },
  {
   "cell_type": "markdown",
   "metadata": {},
   "source": [
    "## An idealized radiocarbon simulation\n",
    "Radiocarbon, <sup>14</sup>C, is produced by cosmic rays in the lower stratosphere and upper troposphere. It quickly reacts with oxygen to produce <sup>14</sup>CO<sub>2</sub>, which is then mixed throughout the troposphere and enters the ocean through air-sea gas exchange. Because the halflife of radiocarbon is only 5730 years a significant amount of deday can occur before the dissolved inorganic radiocarbon (DI<sup>14</sup>C) can mix uniformally throughout the ocean. As such the <sup>14</sup>C serves as a tracer label for water that was recently in contact with the atmosphere. \n",
    "\n",
    "Here we will perform an idealized radiocarbon simulation in our model. In this model we prescribe the atmospheric concentration to 1 and model the air-sea gas exchange using a constant piston velocity of $\\kappa = $50m/10years. For the radioactive decay we use a timescale of $\\tau = 5730$years/$\\log(2)$."
   ]
  },
  {
   "cell_type": "code",
   "execution_count": 3,
   "metadata": {},
   "outputs": [
    {
     "data": {
      "text/plain": [
       "(1.5854895991882294e-7, 2.6069684053828802e11)"
      ]
     },
     "execution_count": 3,
     "metadata": {},
     "output_type": "execute_result"
    }
   ],
   "source": [
    "sec_per_year = 365*24*60*60; \n",
    "κ = 50 / (10 * sec_per_year)     # m/s\n",
    "τ = 5730 * sec_per_year / log(2) # 1/s\n",
    "κ, τ"
   ]
  },
  {
   "cell_type": "code",
   "execution_count": 4,
   "metadata": {},
   "outputs": [
    {
     "data": {
      "text/plain": [
       "(1.5844043907014474e-7, 2.6069684053828802e11)"
      ]
     },
     "execution_count": 4,
     "metadata": {},
     "output_type": "execute_result"
    }
   ],
   "source": [
    "# Example use of units in Julia\n",
    "# Here is one step at a time\n",
    "using Unitful, UnitfulAstro\n",
    "κ2 = 50u\"m\" / 10u\"yr\" # m/yr\n",
    "κ2 = upreferred(κ2) # m/s\n",
    "κ2 = ustrip(κ2) # strip unit (LinearAlgebra functions needs Floats for now)\n",
    "τ2 = 5730u\"yr\" / log(2) # yr\n",
    "τ2 = upreferred(τ) # s\n",
    "τ2 = ustrip(τ2)\n",
    "κ2, τ2"
   ]
  },
  {
   "cell_type": "code",
   "execution_count": 5,
   "metadata": {},
   "outputs": [
    {
     "data": {
      "text/plain": [
       "(1.5844043907014474e-7, 2.6087540001810876e11)"
      ]
     },
     "execution_count": 5,
     "metadata": {},
     "output_type": "execute_result"
    }
   ],
   "source": [
    "# Example #2 of use of units in Julia\n",
    "# Here is the same in fewer lines\n",
    "using Unitful, UnitfulAstro\n",
    "κ3 = ustrip(upreferred(50u\"m\" / 10u\"yr\"))\n",
    "τ3 = ustrip(upreferred(5730u\"yr\" / log(2)))\n",
    "κ3, τ3"
   ]
  },
  {
   "cell_type": "code",
   "execution_count": 6,
   "metadata": {},
   "outputs": [
    {
     "data": {
      "text/plain": [
       "(\n",
       "  [1, 1]  =  -6.80878e-9\n",
       "  [2, 1]  =  7.852e-10\n",
       "  [3, 1]  =  5.23467e-9\n",
       "  [2, 2]  =  -2.09758e-9\n",
       "  [5, 2]  =  7.4781e-11\n",
       "  [1, 3]  =  5.23467e-9\n",
       "  [3, 3]  =  -6.02358e-9\n",
       "  [1, 4]  =  7.852e-10\n",
       "  [4, 4]  =  -4.10327e-11\n",
       "  [2, 5]  =  5.23467e-10\n",
       "  [4, 5]  =  4.48686e-11\n",
       "  [5, 5]  =  -7.09451e-11, [7.92745e-10, 7.92745e-10, 7.92745e-10, 0.0, 0.0])"
      ]
     },
     "execution_count": 6,
     "metadata": {},
     "output_type": "execute_result"
    }
   ],
   "source": [
    "M = TRdiv\n",
    "M += -κ * spdiagm(0 => srf) / h # air-sea loss operator\n",
    "M += spdiagm(0 => ones(5)) / τ  # radioactive decay loss operator\n",
    "s = κ * srf / h               # air-sea source rate\n",
    "M, s"
   ]
  },
  {
   "cell_type": "code",
   "execution_count": 7,
   "metadata": {},
   "outputs": [
    {
     "data": {
      "text/plain": [
       "true"
      ]
     },
     "execution_count": 7,
     "metadata": {},
     "output_type": "execute_result"
    }
   ],
   "source": [
    "# Using `sparse(Diagonal)` and `I` (for identity) is cleaner in my opinion:\n",
    "M2 = TRdiv\n",
    "M2 += -κ * sparse(Diagonal(srf)) / h # air-sea loss operator\n",
    "M2 += I / τ                          # radioactive decay loss operator\n",
    "M2 == M     # test that it's the same as yours"
   ]
  },
  {
   "cell_type": "code",
   "execution_count": 8,
   "metadata": {},
   "outputs": [
    {
     "data": {
      "text/plain": [
       "5-element Array{Float64,1}:\n",
       " 1.0810074624789625\n",
       " 1.06193910398955  \n",
       " 1.0710347112785237\n",
       " 1.2239973332582768\n",
       " 1.1193562263922334"
      ]
     },
     "execution_count": 8,
     "metadata": {},
     "output_type": "execute_result"
    }
   ],
   "source": [
    "R = - M \\ s"
   ]
  },
  {
   "cell_type": "code",
   "execution_count": 9,
   "metadata": {},
   "outputs": [
    {
     "data": {
      "text/plain": [
       "5-element Array{Float64,1}:\n",
       "  643.9172442117496\n",
       "  496.7969498748243\n",
       "  567.3000097505122\n",
       " 1670.8703768740365\n",
       "  932.0947213381232"
      ]
     },
     "execution_count": 9,
     "metadata": {},
     "output_type": "execute_result"
    }
   ],
   "source": [
    "age = τ * log.(R) / sec_per_year"
   ]
  },
  {
   "cell_type": "markdown",
   "metadata": {},
   "source": [
    "## An idealized simulation of a radioactive tracer with an atmospheric origin usig OCIM"
   ]
  },
  {
   "cell_type": "code",
   "execution_count": 10,
   "metadata": {},
   "outputs": [
    {
     "name": "stderr",
     "output_type": "stream",
     "text": [
      "┌ Warning: Package Flatten does not have Unitful in its dependencies:\n",
      "│ - If you have Flatten checked out for development and have\n",
      "│   added Unitful as a dependency but haven't updated your primary\n",
      "│   environment's manifest file, try `Pkg.resolve()`.\n",
      "│ - Otherwise you may need to report an issue with Flatten\n",
      "│ Loading Unitful into Flatten from project dependency, future warnings for Flatten are suppressed.\n",
      "└ @ nothing nothing:840\n"
     ]
    }
   ],
   "source": [
    "using AIBECS\n",
    "t = empty_parameter_table()               # initialize table of parameters\n",
    "add_parameter!(t, :τ, 5730u\"yr\" / log(2)) # add the radioactive decay e-folding timescale\n",
    "add_parameter!(t, :κ, 50u\"m\" / 10u\"yr\")\n",
    "initialize_Parameters_type(t)             # Generate the parameter table"
   ]
  },
  {
   "cell_type": "code",
   "execution_count": 11,
   "metadata": {},
   "outputs": [
    {
     "data": {
      "text/html": [
       "<table class=\"data-frame\"><thead><tr><th></th><th>symbol</th><th>value</th><th>unit</th><th>printunit</th><th>mean_obs</th><th>variance_obs</th><th>optimizable</th><th>description</th></tr><tr><th></th><th>Symbol</th><th>Float64</th><th>Unitful…</th><th>Unitful…</th><th>Float64</th><th>Float64</th><th>Bool</th><th>String</th></tr></thead><tbody><p>2 rows × 9 columns (omitted printing of 1 columns)</p><tr><th>1</th><td>τ</td><td>2.60875e11</td><td>s</td><td>yr</td><td>NaN</td><td>NaN</td><td>false</td><td></td></tr><tr><th>2</th><td>κ</td><td>1.5844e-7</td><td>m s^-1</td><td>m yr^-1</td><td>NaN</td><td>NaN</td><td>false</td><td></td></tr></tbody></table>"
      ],
      "text/latex": [
       "\\begin{tabular}{r|ccccccccc}\n",
       "\t& symbol & value & unit & printunit & mean\\_obs & variance\\_obs & optimizable & description & \\\\\n",
       "\t\\hline\n",
       "\t& Symbol & Float64 & Unitful… & Unitful… & Float64 & Float64 & Bool & String & \\\\\n",
       "\t\\hline\n",
       "\t1 & τ & 2.60875e11 & s & yr & NaN & NaN & false &  & $\\dots$ \\\\\n",
       "\t2 & κ & 1.5844e-7 & m s\\^-1 & m yr\\^-1 & NaN & NaN & false &  & $\\dots$ \\\\\n",
       "\\end{tabular}\n"
      ],
      "text/plain": [
       "2×9 DataFrames.DataFrame. Omitted printing of 3 columns\n",
       "│ Row │ symbol │ value      │ unit     │ printunit │ mean_obs │ variance_obs │\n",
       "│     │ \u001b[90mSymbol\u001b[39m │ \u001b[90mFloat64\u001b[39m    │ \u001b[90mUnitful…\u001b[39m │ \u001b[90mUnitful…\u001b[39m  │ \u001b[90mFloat64\u001b[39m  │ \u001b[90mFloat64\u001b[39m      │\n",
       "├─────┼────────┼────────────┼──────────┼───────────┼──────────┼──────────────┤\n",
       "│ 1   │ τ      │ 2.60875e11 │ s        │ yr        │ NaN      │ NaN          │\n",
       "│ 2   │ κ      │ 1.5844e-7  │ m s^-1   │ m yr^-1   │ NaN      │ NaN          │"
      ]
     },
     "execution_count": 11,
     "metadata": {},
     "output_type": "execute_result"
    }
   ],
   "source": [
    "t"
   ]
  },
  {
   "cell_type": "code",
   "execution_count": 12,
   "metadata": {},
   "outputs": [
    {
     "data": {
      "text/plain": [
       "     τ = 8.27e+03 [yr] (fixed)\n",
       "     κ = 5.00e+00 [m yr⁻¹] (fixed)\n"
      ]
     },
     "execution_count": 12,
     "metadata": {},
     "output_type": "execute_result"
    },
    {
     "name": "stdout",
     "output_type": "stream",
     "text": [
      "AIBECS.Parameters{Float64}\n"
     ]
    }
   ],
   "source": [
    "# I added this cell for you to see how it prints nicely with the \"print\" units\n",
    "# The table `t` prints the value in the SI units, \n",
    "# while the parameter p₀ prints in the units you used to create it\n",
    "p₀"
   ]
  },
  {
   "cell_type": "code",
   "execution_count": 13,
   "metadata": {},
   "outputs": [
    {
     "name": "stdout",
     "output_type": "stream",
     "text": [
      "Loading OCIM1 with JLD2 ✅\n"
     ]
    },
    {
     "data": {
      "text/plain": [
       "T_radio (generic function with 1 method)"
      ]
     },
     "execution_count": 13,
     "metadata": {},
     "output_type": "execute_result"
    }
   ],
   "source": [
    "const mask, grd, T_OCIM = OCIM1.load() ;\n",
    "T_radio(p) = T_OCIM"
   ]
  },
  {
   "cell_type": "code",
   "execution_count": 14,
   "metadata": {},
   "outputs": [
    {
     "data": {
      "text/plain": [
       "36.1351139041634"
      ]
     },
     "execution_count": 14,
     "metadata": {},
     "output_type": "execute_result"
    }
   ],
   "source": [
    "# I changed the syntax here, and refactored the non-explicit `constants` function\n",
    "# into small, explicit functions:\n",
    "const z = vector_of_depths(mask, grd)\n",
    "const nb = number_of_wet_boxes(mask)\n",
    "# I'd suggest putting this constant as a constant, outside of the source/sink functions\n",
    "const dz1 = grd[\"dzt\"][1]"
   ]
  },
  {
   "cell_type": "code",
   "execution_count": 15,
   "metadata": {},
   "outputs": [
    {
     "data": {
      "text/plain": [
       "source_sink_radio (generic function with 1 method)"
      ]
     },
     "execution_count": 15,
     "metadata": {},
     "output_type": "execute_result"
    }
   ],
   "source": [
    "function source_sink_radio(R, p)\n",
    "    τ = p.τ\n",
    "    κ = p.κ\n",
    "    return κ * (z .< 20) .* (R .- 1.0) / dz1 - R ./ τ\n",
    "end"
   ]
  },
  {
   "cell_type": "code",
   "execution_count": 16,
   "metadata": {},
   "outputs": [
    {
     "data": {
      "text/plain": [
       "true"
      ]
     },
     "execution_count": 16,
     "metadata": {},
     "output_type": "execute_result"
    }
   ],
   "source": [
    "# Other way of making source_sink_radio\n",
    "# I think it may be clearer to define source and sink separately? Keep whichever you prefer\n",
    "source_radio(R, p) = p.κ * (z .< 20) .* (R .- 1.0) / dz1\n",
    "sink_radio(R, p) = R ./ p.τ\n",
    "source_sink_radio2(R, p) = source_radio(R, p) - sink_radio(R, p)\n",
    "R_test = rand(nb) # Random R for testing that they are the same below\n",
    "source_sink_radio(R_test, p₀) == source_sink_radio2(R_test, p₀)"
   ]
  },
  {
   "cell_type": "code",
   "execution_count": 17,
   "metadata": {},
   "outputs": [
    {
     "data": {
      "text/plain": [
       "(getfield(AIBECS, Symbol(\"#F#21\")){getfield(AIBECS, Symbol(\"#T#17\")){Tuple{typeof(T_radio)}},getfield(AIBECS, Symbol(\"#G#19\")){Tuple{typeof(source_sink_radio)},getfield(AIBECS, Symbol(\"#tracers#15\")){Int64,Int64}}}(getfield(AIBECS, Symbol(\"#T#17\")){Tuple{typeof(T_radio)}}((T_radio,)), getfield(AIBECS, Symbol(\"#G#19\")){Tuple{typeof(source_sink_radio)},getfield(AIBECS, Symbol(\"#tracers#15\")){Int64,Int64}}((source_sink_radio,), getfield(AIBECS, Symbol(\"#tracers#15\")){Int64,Int64}(200160, 1))), getfield(AIBECS, Symbol(\"#∇ₓF#23\")){getfield(AIBECS, Symbol(\"#T#17\")){Tuple{typeof(T_radio)}},getfield(AIBECS, Symbol(\"#∇ₓG#22\")){Tuple{typeof(source_sink_radio)},Int64,Int64}}(getfield(AIBECS, Symbol(\"#T#17\")){Tuple{typeof(T_radio)}}((T_radio,)), getfield(AIBECS, Symbol(\"#∇ₓG#22\")){Tuple{typeof(source_sink_radio)},Int64,Int64}((source_sink_radio,), 200160, 1)))"
      ]
     },
     "execution_count": 17,
     "metadata": {},
     "output_type": "execute_result"
    }
   ],
   "source": [
    "T_matrices = (T_radio,)           # bundles all the transport matrices in a tuple\n",
    "sources_minus_sinks = (source_sink_radio,) # bundles all the source-sink functions in a tuple\n",
    "F, ∇ₓF = state_function_and_Jacobian(T_matrices, sources_minus_sinks, nb) # generates the state function (and its Jacobian!)"
   ]
  },
  {
   "cell_type": "code",
   "execution_count": 18,
   "metadata": {},
   "outputs": [
    {
     "data": {
      "text/plain": [
       "u: 200160-element Array{Float64,1}:\n",
       " 1.0782340705655866\n",
       " 1.0773899567394316\n",
       " 1.0765826199090471\n",
       " 1.0766251534552782\n",
       " 1.0788553006659538\n",
       " 1.0797320452218182\n",
       " 1.0789425060311295\n",
       " 1.0764865293474566\n",
       " 1.07501169638437  \n",
       " 1.072839670175266 \n",
       " 1.0676162475438296\n",
       " 1.063549185551198 \n",
       " 1.062416690002382 \n",
       " ⋮                 \n",
       " 1.2112585903446846\n",
       " 1.2127960311459196\n",
       " 1.2111010078092417\n",
       " 1.2116376572947276\n",
       " 1.2126524324835084\n",
       " 1.2118933652725452\n",
       " 1.2120304467672054\n",
       " 1.2120055175600286\n",
       " 1.2144669516977566\n",
       " 1.2129656455701916\n",
       " 1.213860089631053 \n",
       " 1.212721189573085 "
      ]
     },
     "execution_count": 18,
     "metadata": {},
     "output_type": "execute_result"
    }
   ],
   "source": [
    "x₀ = ones(nb)\n",
    "prob = SteadyStateProblem(F, ∇ₓF, x₀, p₀)\n",
    "R = solve(prob, CTKAlg())"
   ]
  }
 ],
 "metadata": {
  "kernelspec": {
   "display_name": "Julia 1.1.0",
   "language": "julia",
   "name": "julia-1.1"
  },
  "language_info": {
   "file_extension": ".jl",
   "mimetype": "application/julia",
   "name": "julia",
   "version": "1.1.0"
  }
 },
 "nbformat": 4,
 "nbformat_minor": 2
}
