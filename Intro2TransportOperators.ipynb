{
 "cells": [
  {
   "cell_type": "markdown",
   "metadata": {},
   "source": [
    "## Introduction to global ocean biogeochemical modelling with transport operators\n",
    "To model marine biogeochemical processes on a global scale we need to be able to account for the movement of chemical constituents both horizontally and vertically. We do this with a <b><i>tracer transport operator</i></b>.  When this operator acts on a tracer field it produces the advective-diffusive divergence of the tracer.\n",
    "\n",
    "In order to represent the transport operator on a computer we have to discretize the tracer concentration field and the operator.  Once discretized the tracer field is represented as a vector and the operator is represented as a sparse matrix. (A sparse matrix behaves the same way as a regular matrix. The only difference is that in a sparse matrix the majority of the entries are zeros. These zeros are not stored explicitly to save computer memory making it possible to deal with fairly high resolution ocean models. \n",
    "\n",
    "Mathematically, the discretization converts an expression with partial derivatives into a matrix vector product:\n",
    "\n",
    "$$\\nabla \\cdot \\left[\\mathbf{u}-\\mathbf{K}\\cdot\\nabla \\right]C \\longrightarrow \\mathbf{T}\\mathbf{c}$$\n",
    "\n",
    "where $\\mathbf{T}$ is the flux divergence transport matrix and $\\mathbf{c}$ is the tracer concentration vector. \n",
    "\n",
    "One can go a long way towards understanding what a tracer transport operator is by playing with a simple box model. We therefore introuce a simple box model before moving on to the <i>Ocean Circulation Inverse Model</i> (OCIM).\n"
   ]
  },
  {
   "cell_type": "markdown",
   "metadata": {},
   "source": [
    "The simple box model we consider is embeded in a $2\\times2\\times2$ \"shoebox\". It has 5 <i>wet</i> boxes and 3 <i>dry</i> boxes.\n",
    "<img src=\"boxmodel.png\" width =800>"
   ]
  },
  {
   "cell_type": "code",
   "execution_count": 1,
   "metadata": {},
   "outputs": [],
   "source": [
    "a = 6367e3   # Earth radius           (m)\n",
    "A = 4*pi*a^2 # Earth surface area     (m²)\n",
    "d = 3700     # ocean depth            (m)\n",
    "V = 0.75*A*d # volume of ocean        (m³)\n",
    "h = 200      # thickness of top layer (m)\n",
    "\n",
    "dz = [h*ones(4,1);(d-h)*ones(4,1)] # grid box thicknesses       (m)\n",
    "dV = (dz/d).*((V/4)*ones(8,1))     # grid box volumes           (m³)\n",
    "dAz = dV./dz                       # area of face ⟂ to z axis   (m²)\n",
    "dy = sqrt.(dAz)                    # north-south side length    (m)\n",
    "dx = sqrt.(dAz)                    # east-west side length      (m)\n",
    "dAx = dV./dy                       # area of face ⟂ to x axis   (m²)\n",
    "dAy = dV./dx                       # area of face ⟂ to y axis   (m²)\n",
    "\n",
    "msk = [1, 1, 1, 0, 1, 1, 0, 0]     # wet-dry mask wet=1 dry = 0 \n",
    "iwet = findall(x -> x == 1, msk)        # index to wet gridboxes\n",
    "idry = findall(x -> x == 0, msk)        # index to dry gridboxes\n",
    "srf = [1, 1, 1, 0, 0]              # surface mask srface=1 bottom = 0\n",
    "isrf = findall(x -> x == 1, srf) ;"
   ]
  },
  {
   "cell_type": "markdown",
   "metadata": {},
   "source": [
    "The circulation consists of \n",
    "<ul>\n",
    "    <li>a meridional overturning circulation flowing from box 1 to box 2 to box 6 to box 5 and back to box 1</li>\n",
    "    <li>a zonal current in a reentrant channel from box 1 to box 3 and back to box 1</li>\n",
    "    <li>vertical mixing representing deep convection between box 2 and box 6</li>\n",
    "</ul>\n",
    "    "
   ]
  },
  {
   "cell_type": "code",
   "execution_count": 2,
   "metadata": {},
   "outputs": [
    {
     "data": {
      "text/plain": [
       "5×5 Array{Float64,2}:\n",
       "  6.01987e-9   0.0         -5.23467e-9  -7.852e-10     0.0        \n",
       " -7.852e-10    1.30867e-9   0.0          0.0          -5.23467e-10\n",
       " -5.23467e-9   0.0          5.23467e-9   0.0           0.0        \n",
       "  0.0          0.0          0.0          4.48686e-11  -4.48686e-11\n",
       "  0.0         -7.4781e-11   0.0          0.0           7.4781e-11 "
      ]
     },
     "execution_count": 2,
     "metadata": {},
     "output_type": "execute_result"
    }
   ],
   "source": [
    "using LinearAlgebra\n",
    "using SparseArrays\n",
    "TRdiv = spzeros(8,8)\n",
    "# \"Antarctic Circumpoloar Current\" flow out minus flow in \n",
    "acc = 100e6  # (m³/s)\n",
    "TRdiv += sparse([1,1],[1,3],dV[1]\\[acc,-acc],8,8)\n",
    "TRdiv += sparse([3,3],[3,1],dV[3]\\[acc,-acc],8,8)\n",
    "# \"Meridional Overturning Circulation\" flow out minus flow in\n",
    "moc = 15e6    # (m³/s)\n",
    "TRdiv += sparse([1,1],[1,5],dV[1]\\[moc,-moc],8,8)\n",
    "TRdiv += sparse([2,2],[2,1],dV[2]\\[moc,-moc],8,8)\n",
    "TRdiv += sparse([5,5],[5,6],dV[5]\\[moc,-moc],8,8)\n",
    "TRdiv += sparse([6,6],[6,2],dV[6]\\[moc,-moc],8,8)\n",
    "# vertical mixing at \"high northern latitudes\" flow out minus flow in\n",
    "q = 10e6      # (m³/s)\n",
    "TRdiv += sparse([2,2],[2,6],dV[2]\\[q,-q],8,8)\n",
    "TRdiv += sparse([6,6],[6,2],dV[6]\\[q,-q],8,8)\n",
    "TRdiv = TRdiv[iwet,iwet]\n",
    "Matrix(TRdiv)"
   ]
  },
  {
   "cell_type": "markdown",
   "metadata": {},
   "source": [
    "## An idealized radiocarbon simulation\n",
    "Radiocarbon, <sup>14</sup>C, is produced by cosmic rays in the lower stratosphere and upper troposphere. It quickly reacts with oxygen to produce <sup>14</sup>CO<sub>2</sub>, which is then mixed throughout the troposphere and enters the ocean through air-sea gas exchange. Because the halflife of radiocarbon is only 5730 years a significant amount of deday can occur before the dissolved inorganic radiocarbon (DI<sup>14</sup>C) can mix uniformally throughout the ocean. As such the <sup>14</sup>C serves as a tracer label for water that was recently in contact with the atmosphere. \n",
    "\n",
    "Here we will perform an idealized radiocarbon simulation in our model. In this model we prescribe the atmospheric concentration to 1 and model the air-sea gas exchange using a constant piston velocity of $\\kappa = $50m/10years. For the radioactive decay we use a timescale of $\\tau =$(5730 years)/$\\log(2)$."
   ]
  },
  {
   "cell_type": "code",
   "execution_count": 3,
   "metadata": {},
   "outputs": [],
   "source": [
    "sec_per_year = 365*24*60*60; \n",
    "κ = 50/(10*sec_per_year)     # m/s\n",
    "τ = 5730*sec_per_year/log(2); # 1/s"
   ]
  },
  {
   "cell_type": "code",
   "execution_count": 4,
   "metadata": {},
   "outputs": [],
   "source": [
    "M = TRdiv\n",
    "M += κ*spdiagm(0 => srf)/h    # air-sea loss operator\n",
    "M += spdiagm(0 => ones(5))/τ  # radioactive decay loss operator\n",
    "s = -κ*srf/h;                 # air-sea source rate"
   ]
  },
  {
   "cell_type": "code",
   "execution_count": 5,
   "metadata": {},
   "outputs": [],
   "source": [
    "R = - M\\s;"
   ]
  },
  {
   "cell_type": "code",
   "execution_count": 6,
   "metadata": {},
   "outputs": [
    {
     "data": {
      "text/plain": [
       "5-element Array{Float64,1}:\n",
       "  514.4739601933616 \n",
       "  404.49230963416727\n",
       "  450.2111619689796 \n",
       " 1496.145482003646  \n",
       "  818.0106092795778 "
      ]
     },
     "execution_count": 6,
     "metadata": {},
     "output_type": "execute_result"
    }
   ],
   "source": [
    "age = -τ*log.(R)/sec_per_year"
   ]
  },
  {
   "cell_type": "markdown",
   "metadata": {},
   "source": [
    "## An idealized simulation of a radioactive tracer with an atmospheric origin usig OCIM"
   ]
  },
  {
   "cell_type": "code",
   "execution_count": 7,
   "metadata": {},
   "outputs": [
    {
     "name": "stderr",
     "output_type": "stream",
     "text": [
      "┌ Info: Recompiling stale cache file /Users/fprimeau/.julia/compiled/v1.1/AIBECS/sl7Tv.ji for AIBECS [ace601d6-714c-11e9-04e5-89b7fad23838]\n",
      "└ @ Base loading.jl:1184\n",
      "┌ Warning: Error requiring Unitful from Flatten:\n",
      "│ ArgumentError: Package Flatten does not have Unitful in its dependencies:\n",
      "│ - If you have Flatten checked out for development and have\n",
      "│   added Unitful as a dependency but haven't updated your primary\n",
      "│   environment's manifest file, try `Pkg.resolve()`.\n",
      "│ - Otherwise you may need to report an issue with Flatten\n",
      "│ Stacktrace:\n",
      "│  [1] require(::Module, ::Symbol) at ./loading.jl:836\n",
      "│  [2] top-level scope at /Users/fprimeau/.julia/packages/Flatten/AXBiq/src/Flatten.jl:21\n",
      "│  [3] eval at ./boot.jl:328 [inlined]\n",
      "│  [4] eval at /Users/fprimeau/.julia/packages/Flatten/AXBiq/src/Flatten.jl:1 [inlined]\n",
      "│  [5] (::getfield(Flatten, Symbol(\"##3#6\")))() at /Users/fprimeau/.julia/packages/Requires/9Jse8/src/require.jl:67\n",
      "│  [6] err(::getfield(Flatten, Symbol(\"##3#6\")), ::Module, ::String) at /Users/fprimeau/.julia/packages/Requires/9Jse8/src/require.jl:38\n",
      "│  [7] #2 at /Users/fprimeau/.julia/packages/Requires/9Jse8/src/require.jl:66 [inlined]\n",
      "│  [8] withpath(::getfield(Flatten, Symbol(\"##2#5\")), ::String) at /Users/fprimeau/.julia/packages/Requires/9Jse8/src/require.jl:28\n",
      "│  [9] #1 at /Users/fprimeau/.julia/packages/Requires/9Jse8/src/require.jl:65 [inlined]\n",
      "│  [10] listenpkg(::getfield(Flatten, Symbol(\"##1#4\")), ::Base.PkgId) at /Users/fprimeau/.julia/packages/Requires/9Jse8/src/require.jl:13\n",
      "│  [11] macro expansion at /Users/fprimeau/.julia/packages/Requires/9Jse8/src/require.jl:64 [inlined]\n",
      "│  [12] __init__() at /Users/fprimeau/.julia/packages/Flatten/AXBiq/src/Flatten.jl:20\n",
      "│  [13] _include_from_serialized(::String, ::Array{Any,1}) at ./loading.jl:633\n",
      "│  [14] _require_search_from_serialized(::Base.PkgId, ::String) at ./loading.jl:713\n",
      "│  [15] _tryrequire_from_serialized(::Base.PkgId, ::UInt64, ::Nothing) at ./loading.jl:648\n",
      "│  [16] _require_from_serialized(::String) at ./loading.jl:679\n",
      "│  [17] _require(::Base.PkgId) at ./loading.jl:967\n",
      "│  [18] require(::Base.PkgId) at ./loading.jl:858\n",
      "│  [19] require(::Module, ::Symbol) at ./loading.jl:853\n",
      "│  [20] top-level scope at In[7]:1\n",
      "│  [21] eval at ./boot.jl:328 [inlined]\n",
      "│  [22] softscope_include_string(::Module, ::String, ::String) at /Users/fprimeau/.julia/packages/SoftGlobalScope/cSbw5/src/SoftGlobalScope.jl:218\n",
      "│  [23] execute_request(::ZMQ.Socket, ::IJulia.Msg) at /Users/fprimeau/.julia/packages/IJulia/gI2uA/src/execute_request.jl:67\n",
      "│  [24] #invokelatest#1 at ./essentials.jl:742 [inlined]\n",
      "│  [25] invokelatest at ./essentials.jl:741 [inlined]\n",
      "│  [26] eventloop(::ZMQ.Socket) at /Users/fprimeau/.julia/packages/IJulia/gI2uA/src/eventloop.jl:8\n",
      "│  [27] (::getfield(IJulia, Symbol(\"##15#18\")))() at ./task.jl:259\n",
      "└ @ Requires /Users/fprimeau/.julia/packages/Requires/9Jse8/src/require.jl:40\n"
     ]
    }
   ],
   "source": [
    "using AIBECS\n",
    "t = empty_parameter_table()               # initialize table of parameters\n",
    "add_parameter!(t, :τ, 5730u\"yr\" / log(2)) # add the radioactive decay e-folding timescale\n",
    "add_parameter!(t, :κ, 50u\"m\" / 10u\"yr\")\n",
    "initialize_Parameters_type(t)             # Generate the parameter table"
   ]
  },
  {
   "cell_type": "code",
   "execution_count": 8,
   "metadata": {},
   "outputs": [
    {
     "data": {
      "text/html": [
       "<table class=\"data-frame\"><thead><tr><th></th><th>symbol</th><th>value</th><th>unit</th><th>printunit</th><th>mean_obs</th><th>variance_obs</th><th>optimizable</th><th>description</th></tr><tr><th></th><th>Symbol</th><th>Float64</th><th>Unitful…</th><th>Unitful…</th><th>Float64</th><th>Float64</th><th>Bool</th><th>String</th></tr></thead><tbody><p>2 rows × 9 columns (omitted printing of 1 columns)</p><tr><th>1</th><td>τ</td><td>2.60875e11</td><td>s</td><td>yr</td><td>NaN</td><td>NaN</td><td>false</td><td></td></tr><tr><th>2</th><td>κ</td><td>1.5844e-7</td><td>m s^-1</td><td>m yr^-1</td><td>NaN</td><td>NaN</td><td>false</td><td></td></tr></tbody></table>"
      ],
      "text/latex": [
       "\\begin{tabular}{r|ccccccccc}\n",
       "\t& symbol & value & unit & printunit & mean\\_obs & variance\\_obs & optimizable & description & \\\\\n",
       "\t\\hline\n",
       "\t& Symbol & Float64 & Unitful… & Unitful… & Float64 & Float64 & Bool & String & \\\\\n",
       "\t\\hline\n",
       "\t1 & τ & 2.60875e11 & s & yr & NaN & NaN & false &  & $\\dots$ \\\\\n",
       "\t2 & κ & 1.5844e-7 & m s\\^-1 & m yr\\^-1 & NaN & NaN & false &  & $\\dots$ \\\\\n",
       "\\end{tabular}\n"
      ],
      "text/plain": [
       "2×9 DataFrames.DataFrame. Omitted printing of 3 columns\n",
       "│ Row │ symbol │ value      │ unit     │ printunit │ mean_obs │ variance_obs │\n",
       "│     │ \u001b[90mSymbol\u001b[39m │ \u001b[90mFloat64\u001b[39m    │ \u001b[90mUnitful…\u001b[39m │ \u001b[90mUnitful…\u001b[39m  │ \u001b[90mFloat64\u001b[39m  │ \u001b[90mFloat64\u001b[39m      │\n",
       "├─────┼────────┼────────────┼──────────┼───────────┼──────────┼──────────────┤\n",
       "│ 1   │ τ      │ 2.60875e11 │ s        │ yr        │ NaN      │ NaN          │\n",
       "│ 2   │ κ      │ 1.5844e-7  │ m s^-1   │ m yr^-1   │ NaN      │ NaN          │"
      ]
     },
     "execution_count": 8,
     "metadata": {},
     "output_type": "execute_result"
    }
   ],
   "source": [
    "t"
   ]
  },
  {
   "cell_type": "code",
   "execution_count": 9,
   "metadata": {},
   "outputs": [
    {
     "data": {
      "text/plain": [
       "     τ = 8.27e+03 [yr] (fixed)\n",
       "     κ = 5.00e+00 [m yr⁻¹] (fixed)\n"
      ]
     },
     "execution_count": 9,
     "metadata": {},
     "output_type": "execute_result"
    },
    {
     "name": "stdout",
     "output_type": "stream",
     "text": [
      "AIBECS.Parameters{Float64}\n"
     ]
    }
   ],
   "source": [
    "# I added this cell for you to see how it prints nicely with the \"print\" units\n",
    "# The table `t` prints the value in the SI units, \n",
    "# while the parameter p₀ prints in the units you used to create it\n",
    "p₀"
   ]
  },
  {
   "cell_type": "code",
   "execution_count": 10,
   "metadata": {},
   "outputs": [
    {
     "name": "stdout",
     "output_type": "stream",
     "text": [
      "Loading OCIM1 with JLD2 ✅\n"
     ]
    }
   ],
   "source": [
    "const mask, grd, T_OCIM = OCIM1.load() ;\n",
    "T_14c(p) = T_OCIM\n",
    "iwet = findall(x -> x == 1, vec(mask));  # index to wet gridboxes"
   ]
  },
  {
   "cell_type": "code",
   "execution_count": 11,
   "metadata": {},
   "outputs": [],
   "source": [
    "dz1 = grd[\"dzt\"][1]               # thickness of the top layer\n",
    "z = vec(grd[\"ZT3d\"])[iwet]        # depth of the gridbox centers\n",
    "nwet = length(iwet)               # number of wet grid boxes\n",
    "dv = vec(grd[\"DZT3d\"])[iwet].*vec(grd[\"DYT3d\"])[iwet].*vec(grd[\"DXT3d\"])[iwet];"
   ]
  },
  {
   "cell_type": "code",
   "execution_count": 12,
   "metadata": {},
   "outputs": [
    {
     "data": {
      "text/plain": [
       "sms_14c (generic function with 1 method)"
      ]
     },
     "execution_count": 12,
     "metadata": {},
     "output_type": "execute_result"
    }
   ],
   "source": [
    "function sms_14c(R, p) # source minus sink of age\n",
    "    τ = p.τ\n",
    "    κ = p.κ\n",
    "    return κ * (z .< 20) .* (1.0 .- R) / dz1 - R ./ τ\n",
    "end"
   ]
  },
  {
   "cell_type": "code",
   "execution_count": 13,
   "metadata": {},
   "outputs": [
    {
     "data": {
      "text/plain": [
       "(getfield(AIBECS, Symbol(\"#F#27\")){getfield(AIBECS, Symbol(\"#T#23\")){Tuple{typeof(T_14c)}},getfield(AIBECS, Symbol(\"#G#25\")){Tuple{typeof(sms_14c)},getfield(AIBECS, Symbol(\"#tracers#21\")){Int64,Int64}}}(getfield(AIBECS, Symbol(\"#T#23\")){Tuple{typeof(T_14c)}}((T_14c,)), getfield(AIBECS, Symbol(\"#G#25\")){Tuple{typeof(sms_14c)},getfield(AIBECS, Symbol(\"#tracers#21\")){Int64,Int64}}((sms_14c,), getfield(AIBECS, Symbol(\"#tracers#21\")){Int64,Int64}(200160, 1))), getfield(AIBECS, Symbol(\"#∇ₓF#29\")){getfield(AIBECS, Symbol(\"#T#23\")){Tuple{typeof(T_14c)}},getfield(AIBECS, Symbol(\"#∇ₓG#28\")){Tuple{typeof(sms_14c)},Int64,Int64}}(getfield(AIBECS, Symbol(\"#T#23\")){Tuple{typeof(T_14c)}}((T_14c,)), getfield(AIBECS, Symbol(\"#∇ₓG#28\")){Tuple{typeof(sms_14c)},Int64,Int64}((sms_14c,), 200160, 1)))"
      ]
     },
     "execution_count": 13,
     "metadata": {},
     "output_type": "execute_result"
    }
   ],
   "source": [
    "T_matrices = (T_14c,)           # bundles all the transport matrices in a tuple\n",
    "sources_minus_sinks = (sms_14c,) # bundles all the source-sink functions in a tuple\n",
    "F, ∇ₓF = state_function_and_Jacobian(T_matrices, sources_minus_sinks, nwet) # generates the state function (and its Jacobian!)"
   ]
  },
  {
   "cell_type": "code",
   "execution_count": 16,
   "metadata": {},
   "outputs": [],
   "source": [
    "x₀ = ones(nwet)\n",
    "prob = SteadyStateProblem(F, ∇ₓF, x₀, p₀)\n",
    "R = solve(prob, CTKAlg())\n",
    "c14age = -τ*log.(R);"
   ]
  },
  {
   "cell_type": "code",
   "execution_count": 17,
   "metadata": {},
   "outputs": [],
   "source": [
    "lat, lon = vec(grd[\"yt\"]), vec(grd[\"xt\"]);"
   ]
  },
  {
   "cell_type": "code",
   "execution_count": null,
   "metadata": {},
   "outputs": [
    {
     "name": "stderr",
     "output_type": "stream",
     "text": [
      "┌ Info: Precompiling PyPlot [d330b81b-6aea-500a-939a-2ce795aea3ee]\n",
      "└ @ Base loading.jl:1186\n",
      "┌ Info: Installing matplotlib via the Conda matplotlib package...\n",
      "└ @ PyCall /Users/fprimeau/.julia/packages/PyCall/ttONZ/src/PyCall.jl:705\n",
      "┌ Info: Running `conda install -y matplotlib` in root environment\n",
      "└ @ Conda /Users/fprimeau/.julia/packages/Conda/CpuvI/src/Conda.jl:112\n"
     ]
    },
    {
     "name": "stdout",
     "output_type": "stream",
     "text": [
      "Collecting package metadata: ...working... done\n",
      "Solving environment: ...working... done\n",
      "\n",
      "## Package Plan ##\n",
      "\n",
      "  environment location: /Users/fprimeau/.julia/conda/3\n",
      "\n",
      "  added / updated specs:\n",
      "    - matplotlib\n",
      "\n",
      "\n",
      "The following packages will be downloaded:\n",
      "\n",
      "    package                    |            build\n",
      "    ---------------------------|-----------------\n",
      "    cycler-0.10.0              |           py37_0          14 KB\n",
      "    freetype-2.9.1             |       hb4e5f40_0         864 KB\n",
      "    kiwisolver-1.1.0           |   py37h0a44026_0          60 KB\n",
      "    libpng-1.6.37              |       ha441bb4_0         325 KB\n",
      "    matplotlib-3.0.3           |   py37h54f8f79_0         6.6 MB\n",
      "    pyparsing-2.4.0            |             py_0          58 KB\n",
      "    pytz-2019.1                |             py_0         236 KB\n",
      "    ------------------------------------------------------------\n",
      "                                           Total:         8.1 MB\n",
      "\n",
      "The following NEW packages will be INSTALLED:\n",
      "\n",
      "  cycler             pkgs/main/osx-64::cycler-0.10.0-py37_0\n",
      "  freetype           pkgs/main/osx-64::freetype-2.9.1-hb4e5f40_0\n",
      "  kiwisolver         pkgs/main/osx-64::kiwisolver-1.1.0-py37h0a44026_0\n",
      "  libpng             pkgs/main/osx-64::libpng-1.6.37-ha441bb4_0\n",
      "  matplotlib         pkgs/main/osx-64::matplotlib-3.0.3-py37h54f8f79_0\n",
      "  pyparsing          pkgs/main/noarch::pyparsing-2.4.0-py_0\n",
      "  pytz               pkgs/main/noarch::pytz-2019.1-py_0\n",
      "\n",
      "\n",
      "\n",
      "Downloading and Extracting Packages\n",
      "matplotlib-3.0.3     | 6.6 MB    | ########## | 100% \n",
      "libpng-1.6.37        | 325 KB    | ########## | 100% \n",
      "pyparsing-2.4.0      | 58 KB     | ########## | 100% \n",
      "pytz-2019.1          | 236 KB    | ########## | 100% \n",
      "cycler-0.10.0        | 14 KB     | ########## | 100% \n",
      "kiwisolver-1.1.0     | 60 KB     | ########## | 100% \n",
      "freetype-2.9.1       | 864 KB    | ########## | 100% \n",
      "Preparing transaction: ...working... done\n",
      "Verifying transaction: ...working... done\n",
      "Executing transaction: ...working... done\n"
     ]
    },
    {
     "name": "stderr",
     "output_type": "stream",
     "text": [
      "┌ Info: Installing PyQt5 via the Conda pyqt package...\n",
      "└ @ PyCall /Users/fprimeau/.julia/packages/PyCall/ttONZ/src/PyCall.jl:705\n",
      "┌ Info: Running `conda install -y pyqt` in root environment\n",
      "└ @ Conda /Users/fprimeau/.julia/packages/Conda/CpuvI/src/Conda.jl:112\n"
     ]
    },
    {
     "name": "stdout",
     "output_type": "stream",
     "text": [
      "Collecting package metadata: ...working... done\n",
      "Solving environment: ...working... done\n",
      "\n",
      "## Package Plan ##\n",
      "\n",
      "  environment location: /Users/fprimeau/.julia/conda/3\n",
      "\n",
      "  added / updated specs:\n",
      "    - pyqt\n",
      "\n",
      "\n",
      "The following packages will be downloaded:\n",
      "\n",
      "    package                    |            build\n",
      "    ---------------------------|-----------------\n",
      "    dbus-1.13.6                |       h90a0687_0         560 KB\n",
      "    expat-2.2.6                |       h0a44026_0         129 KB\n",
      "    gettext-0.19.8.1           |       h15daf44_3         3.4 MB\n",
      "    glib-2.56.2                |       hd9629dc_0         4.7 MB\n",
      "    icu-58.2                   |       h4b95b61_1        22.3 MB\n",
      "    jpeg-9b                    |       he5867d9_2         236 KB\n",
      "    libiconv-1.15              |       hdd342a3_7         1.3 MB\n",
      "    pcre-8.43                  |       h0a44026_0         227 KB\n",
      "    pyqt-5.9.2                 |   py37h655552a_2         4.4 MB\n",
      "    qt-5.9.7                   |       h468cd18_1        76.8 MB\n",
      "    sip-4.19.8                 |   py37h0a44026_0         252 KB\n",
      "    ------------------------------------------------------------\n",
      "                                           Total:       114.3 MB\n",
      "\n",
      "The following NEW packages will be INSTALLED:\n",
      "\n",
      "  dbus               pkgs/main/osx-64::dbus-1.13.6-h90a0687_0\n",
      "  expat              pkgs/main/osx-64::expat-2.2.6-h0a44026_0\n",
      "  gettext            pkgs/main/osx-64::gettext-0.19.8.1-h15daf44_3\n",
      "  glib               pkgs/main/osx-64::glib-2.56.2-hd9629dc_0\n",
      "  icu                pkgs/main/osx-64::icu-58.2-h4b95b61_1\n",
      "  jpeg               pkgs/main/osx-64::jpeg-9b-he5867d9_2\n",
      "  libiconv           pkgs/main/osx-64::libiconv-1.15-hdd342a3_7\n",
      "  pcre               pkgs/main/osx-64::pcre-8.43-h0a44026_0\n",
      "  pyqt               pkgs/main/osx-64::pyqt-5.9.2-py37h655552a_2\n",
      "  qt                 pkgs/main/osx-64::qt-5.9.7-h468cd18_1\n",
      "  sip                pkgs/main/osx-64::sip-4.19.8-py37h0a44026_0\n",
      "\n",
      "\n",
      "\n",
      "Downloading and Extracting Packages\n",
      "gettext-0.19.8.1     | 3.4 MB    | ########## | 100% \n",
      "pyqt-5.9.2           | 4.4 MB    | ########## | 100% \n",
      "pcre-8.43            | 227 KB    | ########## | 100% \n",
      "icu-58.2             | 22.3 MB   | ########## | 100% \n",
      "jpeg-9b              | 236 KB    | ########## | 100% \n",
      "glib-2.56.2          | 4.7 MB    | ########## | 100% \n",
      "dbus-1.13.6          | 560 KB    | ########## | 100% \n",
      "qt-5.9.7             | 76.8 MB   | ########3  |  83% "
     ]
    }
   ],
   "source": [
    "using Conda\n",
    "ENV[\"MPLBACKEND\"]=\"qt5agg\"\n",
    "using PyPlot, PyCall"
   ]
  },
  {
   "cell_type": "code",
   "execution_count": 18,
   "metadata": {},
   "outputs": [
    {
     "data": {
      "text/plain": [
       "(91, 180, 24)"
      ]
     },
     "execution_count": 18,
     "metadata": {},
     "output_type": "execute_result"
    }
   ],
   "source": [
    "c14age_3d = NaN * mask     # creates a 3D array of NaNs\n",
    "c14age_3d[iwet] = c14age   # Fills the wet grid boxes with the age values\n",
    "size(c14age_3d)            # Just to check the size of age_3D"
   ]
  },
  {
   "cell_type": "code",
   "execution_count": 19,
   "metadata": {},
   "outputs": [
    {
     "data": {
      "text/plain": [
       "(11, 757.7081696779262)"
      ]
     },
     "execution_count": 19,
     "metadata": {},
     "output_type": "execute_result"
    }
   ],
   "source": [
    "depth = vec(grd[\"zt\"])\n",
    "iz = findfirst(depth .> 700)\n",
    "iz, depth[iz]"
   ]
  },
  {
   "cell_type": "code",
   "execution_count": 20,
   "metadata": {},
   "outputs": [
    {
     "data": {
      "text/plain": [
       "91×180 Array{Float64,2}:\n",
       "  NaN       NaN       NaN       NaN      …   NaN       NaN       NaN    \n",
       "  NaN       NaN       NaN       NaN          NaN       NaN       NaN    \n",
       "  NaN       NaN       NaN       NaN          NaN       NaN       NaN    \n",
       "  NaN       NaN       NaN       NaN          NaN       NaN       NaN    \n",
       "  NaN       NaN       NaN       NaN          NaN       NaN       NaN    \n",
       "  NaN       NaN       NaN       NaN      …   NaN       NaN       NaN    \n",
       "  NaN       NaN       NaN       NaN          NaN       NaN       NaN    \n",
       "  NaN       NaN       NaN       NaN          NaN       NaN       NaN    \n",
       "  NaN       NaN       NaN       NaN          NaN       NaN       NaN    \n",
       " 1457.41    NaN       NaN       NaN          NaN       NaN      1457.38 \n",
       " 1454.51   1451.58   1448.83   1444.21   …  1457.01   1456.75   1455.86 \n",
       " 1461.19   1458.29   1455.14   1451.37      1463.14   1462.88   1462.12 \n",
       " 1465.07   1462.32   1460.09   1457.74      1468.76   1467.44   1466.06 \n",
       "    ⋮                                    ⋱                              \n",
       "  615.383   615.976   619.093   616.981      625.33    621.344   617.314\n",
       "  606.434   605.935   606.782   608.653  …   618.438   613.119   608.551\n",
       "  611.731   607.452   606.665   607.851      618.581   616.397   614.129\n",
       "  613.346   613.347   614.469   615.448      612.854   613.009   613.713\n",
       "  610.367   612.667   614.438   616.098      605.793   607.65    608.964\n",
       "  617.065   617.928   619.602   618.975      613.42    614.853   616.144\n",
       "  623.254   623.467   621.597   617.562  …   622.798   620.902   622.902\n",
       "  627.744   630.347   628.105   625.674      625.302   624.247   625.97 \n",
       "  618.466   621.371   623.178   624.842      612.962   614.104   615.847\n",
       "  613.166   615.107   616.858   618.506      609.788   610.552   611.466\n",
       "  610.286   611.014   611.709   612.137      608.727   608.759   609.587\n",
       "  NaN       NaN       NaN       NaN      …   NaN       NaN       NaN    "
      ]
     },
     "execution_count": 20,
     "metadata": {},
     "output_type": "execute_result"
    }
   ],
   "source": [
    "c14age_3d_1000m_yr = c14age_3d[:,:,iz] * ustrip(1.0u\"s\" |> u\"yr\")"
   ]
  },
  {
   "cell_type": "code",
   "execution_count": 28,
   "metadata": {},
   "outputs": [
    {
     "name": "stderr",
     "output_type": "stream",
     "text": [
      "┌ Info: Installing cartopy.crs via the Conda Conda package...\n",
      "└ @ PyCall /Users/fprimeau/.julia/packages/PyCall/ttONZ/src/PyCall.jl:705\n",
      "┌ Info: Running `conda install -y Conda` in root environment\n",
      "└ @ Conda /Users/fprimeau/.julia/packages/Conda/CpuvI/src/Conda.jl:112\n"
     ]
    },
    {
     "name": "stdout",
     "output_type": "stream",
     "text": [
      "Collecting package metadata: ...working... done\n",
      "Solving environment: ...working... done\n",
      "\n",
      "# All requested packages already installed.\n",
      "\n"
     ]
    },
    {
     "ename": "PyCall.PyError",
     "evalue": "PyError (PyImport_ImportModule\n\nThe Python package cartopy.crs could not be found by pyimport. Usually this means\nthat you did not install cartopy.crs in the Python version being used by PyCall.\n\nPyCall is currently configured to use the Julia-specific Python distribution\ninstalled by the Conda.jl package.  To install the cartopy.crs module, you can\nuse `pyimport_conda(\"cartopy.crs\", PKG)`, where PKG is the Anaconda\npackage the contains the module cartopy.crs, or alternatively you can use the\nConda package directly (via `using Conda` followed by `Conda.add` etcetera).\n\nAlternatively, if you want to use a different Python distribution on your\nsystem, such as a system-wide Python (as opposed to the Julia-specific Python),\nyou can re-configure PyCall with that Python.   As explained in the PyCall\ndocumentation, set ENV[\"PYTHON\"] to the path/name of the python executable\nyou want to use, run Pkg.build(\"PyCall\"), and re-launch Julia.\n\n) <class 'ModuleNotFoundError'>\nModuleNotFoundError(\"No module named 'cartopy'\")\n",
     "output_type": "error",
     "traceback": [
      "PyError (PyImport_ImportModule\n\nThe Python package cartopy.crs could not be found by pyimport. Usually this means\nthat you did not install cartopy.crs in the Python version being used by PyCall.\n\nPyCall is currently configured to use the Julia-specific Python distribution\ninstalled by the Conda.jl package.  To install the cartopy.crs module, you can\nuse `pyimport_conda(\"cartopy.crs\", PKG)`, where PKG is the Anaconda\npackage the contains the module cartopy.crs, or alternatively you can use the\nConda package directly (via `using Conda` followed by `Conda.add` etcetera).\n\nAlternatively, if you want to use a different Python distribution on your\nsystem, such as a system-wide Python (as opposed to the Julia-specific Python),\nyou can re-configure PyCall with that Python.   As explained in the PyCall\ndocumentation, set ENV[\"PYTHON\"] to the path/name of the python executable\nyou want to use, run Pkg.build(\"PyCall\"), and re-launch Julia.\n\n) <class 'ModuleNotFoundError'>\nModuleNotFoundError(\"No module named 'cartopy'\")\n",
      "",
      "Stacktrace:",
      " [1] pyimport(::String) at /Users/fprimeau/.julia/packages/PyCall/ttONZ/src/PyCall.jl:544",
      " [2] pyimport_conda(::String, ::String, ::String) at /Users/fprimeau/.julia/packages/PyCall/ttONZ/src/PyCall.jl:708",
      " [3] pyimport_conda(::String, ::String) at /Users/fprimeau/.julia/packages/PyCall/ttONZ/src/PyCall.jl:701",
      " [4] top-level scope at In[28]:1"
     ]
    }
   ],
   "source": [
    "#using Conda\n",
    "#Conda.add(\"cartopy.crs\")\n",
    "\n",
    "#ccrs = pyimport(\"cartopy.crs\")\n",
    "pyimport_conda(\"cartopy.crs\",\"Conda\")\n",
    "ax = subplot(projection=ccrs.Robinson(central_longitude=-155.0))\n",
    "ax.coastlines()\n",
    "# making it cyclic for Cartopy\n",
    "lon_cyc = [lon; 360+lon[1]] \n",
    "age_cyc = hcat(c14age_3d_1000m_yr, c14age_3d_1000m_yr[:,1])\n",
    "# And plot\n",
    "p = contourf(lon_cyc, lat, age_cyc, levels=0:100:1200, transform=ccrs.PlateCarree(), zorder=-1)\n",
    "colorbar(p, orientation=\"horizontal\")"
   ]
  },
  {
   "cell_type": "code",
   "execution_count": null,
   "metadata": {},
   "outputs": [],
   "source": []
  }
 ],
 "metadata": {
  "kernelspec": {
   "display_name": "Julia 1.1.0",
   "language": "julia",
   "name": "julia-1.1"
  },
  "language_info": {
   "file_extension": ".jl",
   "mimetype": "application/julia",
   "name": "julia",
   "version": "1.1.0"
  }
 },
 "nbformat": 4,
 "nbformat_minor": 2
}
